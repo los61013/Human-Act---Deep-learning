{
  "cells": [
    {
      "cell_type": "markdown",
      "metadata": {
        "id": "view-in-github",
        "colab_type": "text"
      },
      "source": [
        "<a href=\"https://colab.research.google.com/github/los61013/Human-Act---Deep-learning/blob/main/Human_Act_Deep_learning.ipynb\" target=\"_parent\"><img src=\"https://colab.research.google.com/assets/colab-badge.svg\" alt=\"Open In Colab\"/></a>"
      ]
    },
    {
      "cell_type": "markdown",
      "metadata": {
        "id": "0e5kB-y91hVY"
      },
      "source": [
        "# **掛載硬碟**"
      ]
    },
    {
      "cell_type": "code",
      "execution_count": null,
      "metadata": {
        "colab": {
          "base_uri": "https://localhost:8080/"
        },
        "id": "SVcuwPHS8IFq",
        "outputId": "8274edd1-3c50-448d-f7f5-e4924c5af606"
      },
      "outputs": [
        {
          "output_type": "stream",
          "name": "stdout",
          "text": [
            "Mounted at /content/gdrive\n"
          ]
        }
      ],
      "source": [
        "from google.colab import drive\n",
        "drive.mount(\"/content/gdrive\")"
      ]
    },
    {
      "cell_type": "code",
      "execution_count": null,
      "metadata": {
        "colab": {
          "base_uri": "https://localhost:8080/"
        },
        "id": "AZQdf5lj88Qz",
        "outputId": "5ce77986-c5ea-454f-84b7-9fd7be86dce5"
      },
      "outputs": [
        {
          "output_type": "stream",
          "name": "stdout",
          "text": [
            "/content/gdrive/MyDrive\n"
          ]
        }
      ],
      "source": [
        "%cd /content/gdrive/MyDrive/"
      ]
    },
    {
      "cell_type": "code",
      "execution_count": null,
      "metadata": {
        "id": "0mQ6L7I_9QeN"
      },
      "outputs": [],
      "source": [
        "import os\n",
        "\n",
        "if not os.path.isdir(\"資料探勘\"):\n",
        "  os.makedirs(\"資料探勘\")"
      ]
    },
    {
      "cell_type": "code",
      "execution_count": null,
      "metadata": {
        "colab": {
          "base_uri": "https://localhost:8080/"
        },
        "id": "U6kLqaGn9VXP",
        "outputId": "5ae9d03e-2d37-4448-c460-a7344caa102d"
      },
      "outputs": [
        {
          "output_type": "stream",
          "name": "stdout",
          "text": [
            "/content/gdrive/MyDrive/資料探勘\n"
          ]
        }
      ],
      "source": [
        "%cd 資料探勘/"
      ]
    },
    {
      "cell_type": "code",
      "execution_count": null,
      "metadata": {
        "colab": {
          "base_uri": "https://localhost:8080/"
        },
        "id": "VdxssqnwQoE2",
        "outputId": "1aa7f1b8-b196-4f73-c599-296cf3b19ebd"
      },
      "outputs": [
        {
          "output_type": "stream",
          "name": "stdout",
          "text": [
            "Sun Feb  5 05:40:07 2023       \n",
            "+-----------------------------------------------------------------------------+\n",
            "| NVIDIA-SMI 510.47.03    Driver Version: 510.47.03    CUDA Version: 11.6     |\n",
            "|-------------------------------+----------------------+----------------------+\n",
            "| GPU  Name        Persistence-M| Bus-Id        Disp.A | Volatile Uncorr. ECC |\n",
            "| Fan  Temp  Perf  Pwr:Usage/Cap|         Memory-Usage | GPU-Util  Compute M. |\n",
            "|                               |                      |               MIG M. |\n",
            "|===============================+======================+======================|\n",
            "|   0  Tesla T4            Off  | 00000000:00:04.0 Off |                    0 |\n",
            "| N/A   65C    P0    31W /  70W |      0MiB / 15360MiB |      0%      Default |\n",
            "|                               |                      |                  N/A |\n",
            "+-------------------------------+----------------------+----------------------+\n",
            "                                                                               \n",
            "+-----------------------------------------------------------------------------+\n",
            "| Processes:                                                                  |\n",
            "|  GPU   GI   CI        PID   Type   Process name                  GPU Memory |\n",
            "|        ID   ID                                                   Usage      |\n",
            "|=============================================================================|\n",
            "|  No running processes found                                                 |\n",
            "+-----------------------------------------------------------------------------+\n"
          ]
        }
      ],
      "source": [
        "! /opt/bin/nvidia-smi"
      ]
    },
    {
      "cell_type": "markdown",
      "metadata": {
        "id": "Y8pFDrNu1m7E"
      },
      "source": [
        "**導入資料**"
      ]
    },
    {
      "cell_type": "code",
      "execution_count": null,
      "metadata": {
        "colab": {
          "base_uri": "https://localhost:8080/"
        },
        "id": "40eC6ItI9jjl",
        "outputId": "5139c686-1af6-401d-b90c-bf9761bb2de9"
      },
      "outputs": [
        {
          "output_type": "stream",
          "name": "stdout",
          "text": [
            "   ID      act            time     x-acc      y-acc     z-acc\n",
            "0  33  Jogging  49105962326000 -0.694638  12.680544  0.503953\n",
            "1  33  Jogging  49106062271000  5.012288  11.264028  0.953424\n",
            "2  33  Jogging  49106112167000  4.903325  10.882658 -0.081722\n",
            "3  33  Jogging  49106222305000 -0.612916  18.496431  3.023717\n",
            "4  33  Jogging  49106332290000 -1.184970  12.108489  7.205164\n",
            "train data: (1098204, 6)\n",
            "<class 'pandas.core.frame.DataFrame'>\n",
            "RangeIndex: 1098204 entries, 0 to 1098203\n",
            "Data columns (total 6 columns):\n",
            " #   Column  Non-Null Count    Dtype  \n",
            "---  ------  --------------    -----  \n",
            " 0   ID      1098204 non-null  int64  \n",
            " 1   act     1098204 non-null  object \n",
            " 2   time    1098204 non-null  int64  \n",
            " 3   x-acc   1098204 non-null  float64\n",
            " 4   y-acc   1098204 non-null  float64\n",
            " 5   z-acc   1098203 non-null  float64\n",
            "dtypes: float64(3), int64(2), object(1)\n",
            "memory usage: 50.3+ MB\n",
            "None\n"
          ]
        }
      ],
      "source": [
        "import pandas as pd\n",
        "import numpy as np\n",
        "\n",
        "col_name = [\"ID\",\"act\",\"time\",\"x-acc\",\"y-acc\",\"z-acc\"]\n",
        "train_data = pd.read_csv(\"/content/gdrive/MyDrive/資料探勘/WISDM/WISDM_ar_v1.1_raw.txt\", sep=\",\",names=col_name ,on_bad_lines='skip' ,low_memory=False)\n",
        "\n",
        "#檢視資料\n",
        "print(train_data.head())\n",
        "print(\"train data:\",train_data.shape)\n",
        "print(train_data.info())"
      ]
    },
    {
      "cell_type": "markdown",
      "metadata": {
        "id": "3Esd0WX_LrHv"
      },
      "source": [
        "# **資料清洗及轉換**"
      ]
    },
    {
      "cell_type": "markdown",
      "metadata": {
        "id": "Nnw-V1WQhkgk"
      },
      "source": [
        "先將資料型態改為需要的型態\n",
        "1.   ID、activity:category(類別)\n",
        "2.   time:int64\n",
        "3.   xyz-acc:f64\n",
        "\n",
        "\n",
        "\n"
      ]
    },
    {
      "cell_type": "code",
      "execution_count": null,
      "metadata": {
        "colab": {
          "base_uri": "https://localhost:8080/"
        },
        "id": "fis2urdEiQiU",
        "outputId": "9cab2668-d144-4dfa-c6aa-740dc155a6d9"
      },
      "outputs": [
        {
          "output_type": "stream",
          "name": "stdout",
          "text": [
            "<class 'pandas.core.frame.DataFrame'>\n",
            "RangeIndex: 1098204 entries, 0 to 1098203\n",
            "Data columns (total 6 columns):\n",
            " #   Column  Non-Null Count    Dtype   \n",
            "---  ------  --------------    -----   \n",
            " 0   ID      1098204 non-null  category\n",
            " 1   act     1098204 non-null  category\n",
            " 2   time    1098204 non-null  int64   \n",
            " 3   x-acc   1098204 non-null  float64 \n",
            " 4   y-acc   1098204 non-null  float64 \n",
            " 5   z-acc   1098203 non-null  float64 \n",
            "dtypes: category(2), float64(3), int64(1)\n",
            "memory usage: 35.6 MB\n",
            "None\n"
          ]
        }
      ],
      "source": [
        "#轉換資料型態\n",
        "train_data.ID = train_data.ID.astype(\"category\")\n",
        "train_data.act = train_data.act.astype(\"category\")\n",
        "print(train_data.info())"
      ]
    },
    {
      "cell_type": "markdown",
      "metadata": {
        "id": "0pZgt1IeuPRF"
      },
      "source": [
        "發現總資料筆數少三筆且不整齊    \n",
        "首先檢查看看有沒有空值"
      ]
    },
    {
      "cell_type": "code",
      "execution_count": null,
      "metadata": {
        "colab": {
          "base_uri": "https://localhost:8080/"
        },
        "id": "IYuMeUBRube6",
        "outputId": "365c0db3-982f-408b-bcee-3d0adda8b047"
      },
      "outputs": [
        {
          "output_type": "execute_result",
          "data": {
            "text/plain": [
              "ID       0\n",
              "act      0\n",
              "time     0\n",
              "x-acc    0\n",
              "y-acc    0\n",
              "z-acc    1\n",
              "dtype: int64"
            ]
          },
          "metadata": {},
          "execution_count": 8
        }
      ],
      "source": [
        "train_data.isnull().sum() #個欄位的空值總和"
      ]
    },
    {
      "cell_type": "markdown",
      "metadata": {
        "id": "A72o3h0Yq50-"
      },
      "source": [
        "有一個就直接刪掉了\n"
      ]
    },
    {
      "cell_type": "code",
      "execution_count": null,
      "metadata": {
        "colab": {
          "base_uri": "https://localhost:8080/"
        },
        "id": "dA2ZascZqCfK",
        "outputId": "dab15488-db2a-4976-eb9d-eb24819a111c"
      },
      "outputs": [
        {
          "output_type": "execute_result",
          "data": {
            "text/plain": [
              "ID       0\n",
              "act      0\n",
              "time     0\n",
              "x-acc    0\n",
              "y-acc    0\n",
              "z-acc    0\n",
              "dtype: int64"
            ]
          },
          "metadata": {},
          "execution_count": 9
        }
      ],
      "source": [
        "train_data = train_data.dropna() #丟棄全部空值\n",
        "train_data.isnull().sum() #檢查個欄位空值"
      ]
    },
    {
      "cell_type": "markdown",
      "metadata": {
        "id": "VMvOeNHrtgiQ"
      },
      "source": [
        "再來檢查下各個活動的紀錄狀況  \n"
      ]
    },
    {
      "cell_type": "code",
      "execution_count": null,
      "metadata": {
        "colab": {
          "base_uri": "https://localhost:8080/"
        },
        "id": "Rw88SDfSt02D",
        "outputId": "57794c64-9dc3-4e60-f7f5-3c6fc2a41ba9"
      },
      "outputs": [
        {
          "output_type": "stream",
          "name": "stdout",
          "text": [
            "Walking       424397\n",
            "Jogging       342176\n",
            "Upstairs      122869\n",
            "Downstairs    100427\n",
            "Sitting        59939\n",
            "Standing       48395\n",
            "Name: act, dtype: int64\n"
          ]
        }
      ],
      "source": [
        "actcount = train_data.act.value_counts() #調出act的所有類型筆數\n",
        "print(actcount)"
      ]
    },
    {
      "cell_type": "markdown",
      "metadata": {
        "id": "LlCOQjGjuVm3"
      },
      "source": [
        "![image.png](data:image/png;base64,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)  \n",
        "跟說明文檔對比發現walking少兩筆  \n",
        "jogging少一筆  \n",
        "但由於少導入的資料過少所以就忽略不補了"
      ]
    },
    {
      "cell_type": "code",
      "execution_count": null,
      "metadata": {
        "colab": {
          "base_uri": "https://localhost:8080/"
        },
        "id": "hO-bUoIJtcrp",
        "outputId": "7057f219-fe87-413d-9967-9d1511b5785b"
      },
      "outputs": [
        {
          "output_type": "stream",
          "name": "stdout",
          "text": [
            "<class 'pandas.core.frame.DataFrame'>\n",
            "Int64Index: 1098203 entries, 0 to 1098203\n",
            "Data columns (total 6 columns):\n",
            " #   Column  Non-Null Count    Dtype   \n",
            "---  ------  --------------    -----   \n",
            " 0   ID      1098203 non-null  category\n",
            " 1   act     1098203 non-null  category\n",
            " 2   time    1098203 non-null  int64   \n",
            " 3   x-acc   1098203 non-null  float64 \n",
            " 4   y-acc   1098203 non-null  float64 \n",
            " 5   z-acc   1098203 non-null  float64 \n",
            "dtypes: category(2), float64(3), int64(1)\n",
            "memory usage: 44.0 MB\n",
            "None\n"
          ]
        }
      ],
      "source": [
        "print(train_data.info()) #查看dataset"
      ]
    },
    {
      "cell_type": "markdown",
      "metadata": {
        "id": "YNV1PLdklSw3"
      },
      "source": [
        "看起來沒問題了(?  \n",
        "**接下來整理時間的資料**  \n",
        "由於該時間資料是由時間戳記去紀錄  \n",
        "先將時間戳記改回原本時間後再看看要怎麼處理\n"
      ]
    },
    {
      "cell_type": "code",
      "execution_count": null,
      "metadata": {
        "colab": {
          "base_uri": "https://localhost:8080/",
          "height": 423
        },
        "id": "7Gd-5Zg5nYWv",
        "outputId": "b476dad0-a7d8-4a8f-d3ba-612f518d0227"
      },
      "outputs": [
        {
          "output_type": "execute_result",
          "data": {
            "text/plain": [
              "        ID      act          time  x-acc  y-acc     z-acc\n",
              "882376   3  Walking             0   0.00   0.00  0.000000\n",
              "164943   6  Jogging             0   0.00   0.00  0.000000\n",
              "165014   6  Jogging             0   0.00   0.00  0.000000\n",
              "165015   6  Jogging             0   0.00   0.00  0.000000\n",
              "165027   6  Jogging             0   0.00   0.00  0.000000\n",
              "...     ..      ...           ...    ...    ...       ...\n",
              "660978  23  Jogging  813072307000  -4.67  19.53 -2.070000\n",
              "923178  22  Walking  813072307000   4.94   7.74  0.800000\n",
              "721187  34  Jogging  813092326000   9.72   3.79  0.840000\n",
              "144477  15  Jogging  813102305000   0.38   8.81  5.216593\n",
              "22677   20  Jogging  813112346000 -10.53   3.17 -4.372132\n",
              "\n",
              "[100000 rows x 6 columns]"
            ],
            "text/html": [
              "\n",
              "  <div id=\"df-14836edb-6c70-424f-989d-28ea7aa5377a\">\n",
              "    <div class=\"colab-df-container\">\n",
              "      <div>\n",
              "<style scoped>\n",
              "    .dataframe tbody tr th:only-of-type {\n",
              "        vertical-align: middle;\n",
              "    }\n",
              "\n",
              "    .dataframe tbody tr th {\n",
              "        vertical-align: top;\n",
              "    }\n",
              "\n",
              "    .dataframe thead th {\n",
              "        text-align: right;\n",
              "    }\n",
              "</style>\n",
              "<table border=\"1\" class=\"dataframe\">\n",
              "  <thead>\n",
              "    <tr style=\"text-align: right;\">\n",
              "      <th></th>\n",
              "      <th>ID</th>\n",
              "      <th>act</th>\n",
              "      <th>time</th>\n",
              "      <th>x-acc</th>\n",
              "      <th>y-acc</th>\n",
              "      <th>z-acc</th>\n",
              "    </tr>\n",
              "  </thead>\n",
              "  <tbody>\n",
              "    <tr>\n",
              "      <th>882376</th>\n",
              "      <td>3</td>\n",
              "      <td>Walking</td>\n",
              "      <td>0</td>\n",
              "      <td>0.00</td>\n",
              "      <td>0.00</td>\n",
              "      <td>0.000000</td>\n",
              "    </tr>\n",
              "    <tr>\n",
              "      <th>164943</th>\n",
              "      <td>6</td>\n",
              "      <td>Jogging</td>\n",
              "      <td>0</td>\n",
              "      <td>0.00</td>\n",
              "      <td>0.00</td>\n",
              "      <td>0.000000</td>\n",
              "    </tr>\n",
              "    <tr>\n",
              "      <th>165014</th>\n",
              "      <td>6</td>\n",
              "      <td>Jogging</td>\n",
              "      <td>0</td>\n",
              "      <td>0.00</td>\n",
              "      <td>0.00</td>\n",
              "      <td>0.000000</td>\n",
              "    </tr>\n",
              "    <tr>\n",
              "      <th>165015</th>\n",
              "      <td>6</td>\n",
              "      <td>Jogging</td>\n",
              "      <td>0</td>\n",
              "      <td>0.00</td>\n",
              "      <td>0.00</td>\n",
              "      <td>0.000000</td>\n",
              "    </tr>\n",
              "    <tr>\n",
              "      <th>165027</th>\n",
              "      <td>6</td>\n",
              "      <td>Jogging</td>\n",
              "      <td>0</td>\n",
              "      <td>0.00</td>\n",
              "      <td>0.00</td>\n",
              "      <td>0.000000</td>\n",
              "    </tr>\n",
              "    <tr>\n",
              "      <th>...</th>\n",
              "      <td>...</td>\n",
              "      <td>...</td>\n",
              "      <td>...</td>\n",
              "      <td>...</td>\n",
              "      <td>...</td>\n",
              "      <td>...</td>\n",
              "    </tr>\n",
              "    <tr>\n",
              "      <th>660978</th>\n",
              "      <td>23</td>\n",
              "      <td>Jogging</td>\n",
              "      <td>813072307000</td>\n",
              "      <td>-4.67</td>\n",
              "      <td>19.53</td>\n",
              "      <td>-2.070000</td>\n",
              "    </tr>\n",
              "    <tr>\n",
              "      <th>923178</th>\n",
              "      <td>22</td>\n",
              "      <td>Walking</td>\n",
              "      <td>813072307000</td>\n",
              "      <td>4.94</td>\n",
              "      <td>7.74</td>\n",
              "      <td>0.800000</td>\n",
              "    </tr>\n",
              "    <tr>\n",
              "      <th>721187</th>\n",
              "      <td>34</td>\n",
              "      <td>Jogging</td>\n",
              "      <td>813092326000</td>\n",
              "      <td>9.72</td>\n",
              "      <td>3.79</td>\n",
              "      <td>0.840000</td>\n",
              "    </tr>\n",
              "    <tr>\n",
              "      <th>144477</th>\n",
              "      <td>15</td>\n",
              "      <td>Jogging</td>\n",
              "      <td>813102305000</td>\n",
              "      <td>0.38</td>\n",
              "      <td>8.81</td>\n",
              "      <td>5.216593</td>\n",
              "    </tr>\n",
              "    <tr>\n",
              "      <th>22677</th>\n",
              "      <td>20</td>\n",
              "      <td>Jogging</td>\n",
              "      <td>813112346000</td>\n",
              "      <td>-10.53</td>\n",
              "      <td>3.17</td>\n",
              "      <td>-4.372132</td>\n",
              "    </tr>\n",
              "  </tbody>\n",
              "</table>\n",
              "<p>100000 rows × 6 columns</p>\n",
              "</div>\n",
              "      <button class=\"colab-df-convert\" onclick=\"convertToInteractive('df-14836edb-6c70-424f-989d-28ea7aa5377a')\"\n",
              "              title=\"Convert this dataframe to an interactive table.\"\n",
              "              style=\"display:none;\">\n",
              "        \n",
              "  <svg xmlns=\"http://www.w3.org/2000/svg\" height=\"24px\"viewBox=\"0 0 24 24\"\n",
              "       width=\"24px\">\n",
              "    <path d=\"M0 0h24v24H0V0z\" fill=\"none\"/>\n",
              "    <path d=\"M18.56 5.44l.94 2.06.94-2.06 2.06-.94-2.06-.94-.94-2.06-.94 2.06-2.06.94zm-11 1L8.5 8.5l.94-2.06 2.06-.94-2.06-.94L8.5 2.5l-.94 2.06-2.06.94zm10 10l.94 2.06.94-2.06 2.06-.94-2.06-.94-.94-2.06-.94 2.06-2.06.94z\"/><path d=\"M17.41 7.96l-1.37-1.37c-.4-.4-.92-.59-1.43-.59-.52 0-1.04.2-1.43.59L10.3 9.45l-7.72 7.72c-.78.78-.78 2.05 0 2.83L4 21.41c.39.39.9.59 1.41.59.51 0 1.02-.2 1.41-.59l7.78-7.78 2.81-2.81c.8-.78.8-2.07 0-2.86zM5.41 20L4 18.59l7.72-7.72 1.47 1.35L5.41 20z\"/>\n",
              "  </svg>\n",
              "      </button>\n",
              "      \n",
              "  <style>\n",
              "    .colab-df-container {\n",
              "      display:flex;\n",
              "      flex-wrap:wrap;\n",
              "      gap: 12px;\n",
              "    }\n",
              "\n",
              "    .colab-df-convert {\n",
              "      background-color: #E8F0FE;\n",
              "      border: none;\n",
              "      border-radius: 50%;\n",
              "      cursor: pointer;\n",
              "      display: none;\n",
              "      fill: #1967D2;\n",
              "      height: 32px;\n",
              "      padding: 0 0 0 0;\n",
              "      width: 32px;\n",
              "    }\n",
              "\n",
              "    .colab-df-convert:hover {\n",
              "      background-color: #E2EBFA;\n",
              "      box-shadow: 0px 1px 2px rgba(60, 64, 67, 0.3), 0px 1px 3px 1px rgba(60, 64, 67, 0.15);\n",
              "      fill: #174EA6;\n",
              "    }\n",
              "\n",
              "    [theme=dark] .colab-df-convert {\n",
              "      background-color: #3B4455;\n",
              "      fill: #D2E3FC;\n",
              "    }\n",
              "\n",
              "    [theme=dark] .colab-df-convert:hover {\n",
              "      background-color: #434B5C;\n",
              "      box-shadow: 0px 1px 3px 1px rgba(0, 0, 0, 0.15);\n",
              "      filter: drop-shadow(0px 1px 2px rgba(0, 0, 0, 0.3));\n",
              "      fill: #FFFFFF;\n",
              "    }\n",
              "  </style>\n",
              "\n",
              "      <script>\n",
              "        const buttonEl =\n",
              "          document.querySelector('#df-14836edb-6c70-424f-989d-28ea7aa5377a button.colab-df-convert');\n",
              "        buttonEl.style.display =\n",
              "          google.colab.kernel.accessAllowed ? 'block' : 'none';\n",
              "\n",
              "        async function convertToInteractive(key) {\n",
              "          const element = document.querySelector('#df-14836edb-6c70-424f-989d-28ea7aa5377a');\n",
              "          const dataTable =\n",
              "            await google.colab.kernel.invokeFunction('convertToInteractive',\n",
              "                                                     [key], {});\n",
              "          if (!dataTable) return;\n",
              "\n",
              "          const docLinkHtml = 'Like what you see? Visit the ' +\n",
              "            '<a target=\"_blank\" href=https://colab.research.google.com/notebooks/data_table.ipynb>data table notebook</a>'\n",
              "            + ' to learn more about interactive tables.';\n",
              "          element.innerHTML = '';\n",
              "          dataTable['output_type'] = 'display_data';\n",
              "          await google.colab.output.renderOutput(dataTable, element);\n",
              "          const docLink = document.createElement('div');\n",
              "          docLink.innerHTML = docLinkHtml;\n",
              "          element.appendChild(docLink);\n",
              "        }\n",
              "      </script>\n",
              "    </div>\n",
              "  </div>\n",
              "  "
            ]
          },
          "metadata": {},
          "execution_count": 12
        }
      ],
      "source": [
        "df = train_data.copy() #做一個副本然後就可以做壞壞的事了\n",
        "df.sort_values(by='time',ascending=True).head(100000)  #排序時間戳記大小"
      ]
    },
    {
      "cell_type": "markdown",
      "metadata": {
        "id": "3tDD6yCucChj"
      },
      "source": [
        "藏很深...這裡發現了一大堆無用資料  \n",
        "先將時間戳記為0的資料全部丟掉(會影響act)"
      ]
    },
    {
      "cell_type": "code",
      "execution_count": null,
      "metadata": {
        "colab": {
          "base_uri": "https://localhost:8080/"
        },
        "id": "zbZCtE6jcYAe",
        "outputId": "209f9be8-aa24-4019-b0a1-aa6da78bcd06"
      },
      "outputs": [
        {
          "output_type": "stream",
          "name": "stdout",
          "text": [
            "ID, 0值：0\n",
            "act, 0值：0\n",
            "time, 0值：12843\n",
            "x-acc, 0值：16511\n",
            "y-acc, 0值：13999\n",
            "z-acc, 0值：17616\n"
          ]
        }
      ],
      "source": [
        "#檢查個欄位的0值數量\n",
        "for col in list(df.columns):\n",
        "    zero = len(df[df[col] == 0])\n",
        "    print(\"%s, 0值：%d\" % (col, zero))"
      ]
    },
    {
      "cell_type": "markdown",
      "metadata": {
        "id": "8sekCDnG8YhR"
      },
      "source": [
        "發現有12843筆0值的時間  \n",
        "全部丟棄時間為0的資料並觀察排序後的100筆資料  \n",
        "*XYZ的0值我選擇保留，畢竟可能真的剛好有些動作的XYZ真的為0"
      ]
    },
    {
      "cell_type": "code",
      "execution_count": null,
      "metadata": {
        "colab": {
          "base_uri": "https://localhost:8080/",
          "height": 423
        },
        "id": "ZFRujcOn8U0S",
        "outputId": "a27ec67c-7d3f-4dd2-d580-d693dd9ae0f4"
      },
      "outputs": [
        {
          "output_type": "execute_result",
          "data": {
            "text/plain": [
              "        ID       act          time  x-acc  y-acc     z-acc\n",
              "456679  35  Standing  7.345234e+10   2.03   9.47  2.910000\n",
              "456680  35  Standing  7.350233e+10   2.15   9.30  2.830000\n",
              "456681  35  Standing  7.355235e+10   2.22   9.38  2.830000\n",
              "456682  35  Standing  7.360234e+10   2.37   9.34  3.020000\n",
              "456683  35  Standing  7.365232e+10   2.30   9.28  2.830000\n",
              "...     ..       ...           ...    ...    ...       ...\n",
              "723299  34   Jogging  9.187323e+11   4.14  13.63  8.050000\n",
              "146616  15   Jogging  9.187424e+11  18.73  -0.38  8.349273\n",
              "326320  35   Walking  9.187522e+11   1.99   5.09 -0.422231\n",
              "543811  13  Standing  9.187623e+11  -5.37   8.24  0.190000\n",
              "925292  22   Walking  9.187623e+11   6.66   4.29 -2.300000\n",
              "\n",
              "[100000 rows x 6 columns]"
            ],
            "text/html": [
              "\n",
              "  <div id=\"df-d9a2f091-2507-47f3-9769-bdfddef2037c\">\n",
              "    <div class=\"colab-df-container\">\n",
              "      <div>\n",
              "<style scoped>\n",
              "    .dataframe tbody tr th:only-of-type {\n",
              "        vertical-align: middle;\n",
              "    }\n",
              "\n",
              "    .dataframe tbody tr th {\n",
              "        vertical-align: top;\n",
              "    }\n",
              "\n",
              "    .dataframe thead th {\n",
              "        text-align: right;\n",
              "    }\n",
              "</style>\n",
              "<table border=\"1\" class=\"dataframe\">\n",
              "  <thead>\n",
              "    <tr style=\"text-align: right;\">\n",
              "      <th></th>\n",
              "      <th>ID</th>\n",
              "      <th>act</th>\n",
              "      <th>time</th>\n",
              "      <th>x-acc</th>\n",
              "      <th>y-acc</th>\n",
              "      <th>z-acc</th>\n",
              "    </tr>\n",
              "  </thead>\n",
              "  <tbody>\n",
              "    <tr>\n",
              "      <th>456679</th>\n",
              "      <td>35</td>\n",
              "      <td>Standing</td>\n",
              "      <td>7.345234e+10</td>\n",
              "      <td>2.03</td>\n",
              "      <td>9.47</td>\n",
              "      <td>2.910000</td>\n",
              "    </tr>\n",
              "    <tr>\n",
              "      <th>456680</th>\n",
              "      <td>35</td>\n",
              "      <td>Standing</td>\n",
              "      <td>7.350233e+10</td>\n",
              "      <td>2.15</td>\n",
              "      <td>9.30</td>\n",
              "      <td>2.830000</td>\n",
              "    </tr>\n",
              "    <tr>\n",
              "      <th>456681</th>\n",
              "      <td>35</td>\n",
              "      <td>Standing</td>\n",
              "      <td>7.355235e+10</td>\n",
              "      <td>2.22</td>\n",
              "      <td>9.38</td>\n",
              "      <td>2.830000</td>\n",
              "    </tr>\n",
              "    <tr>\n",
              "      <th>456682</th>\n",
              "      <td>35</td>\n",
              "      <td>Standing</td>\n",
              "      <td>7.360234e+10</td>\n",
              "      <td>2.37</td>\n",
              "      <td>9.34</td>\n",
              "      <td>3.020000</td>\n",
              "    </tr>\n",
              "    <tr>\n",
              "      <th>456683</th>\n",
              "      <td>35</td>\n",
              "      <td>Standing</td>\n",
              "      <td>7.365232e+10</td>\n",
              "      <td>2.30</td>\n",
              "      <td>9.28</td>\n",
              "      <td>2.830000</td>\n",
              "    </tr>\n",
              "    <tr>\n",
              "      <th>...</th>\n",
              "      <td>...</td>\n",
              "      <td>...</td>\n",
              "      <td>...</td>\n",
              "      <td>...</td>\n",
              "      <td>...</td>\n",
              "      <td>...</td>\n",
              "    </tr>\n",
              "    <tr>\n",
              "      <th>723299</th>\n",
              "      <td>34</td>\n",
              "      <td>Jogging</td>\n",
              "      <td>9.187323e+11</td>\n",
              "      <td>4.14</td>\n",
              "      <td>13.63</td>\n",
              "      <td>8.050000</td>\n",
              "    </tr>\n",
              "    <tr>\n",
              "      <th>146616</th>\n",
              "      <td>15</td>\n",
              "      <td>Jogging</td>\n",
              "      <td>9.187424e+11</td>\n",
              "      <td>18.73</td>\n",
              "      <td>-0.38</td>\n",
              "      <td>8.349273</td>\n",
              "    </tr>\n",
              "    <tr>\n",
              "      <th>326320</th>\n",
              "      <td>35</td>\n",
              "      <td>Walking</td>\n",
              "      <td>9.187522e+11</td>\n",
              "      <td>1.99</td>\n",
              "      <td>5.09</td>\n",
              "      <td>-0.422231</td>\n",
              "    </tr>\n",
              "    <tr>\n",
              "      <th>543811</th>\n",
              "      <td>13</td>\n",
              "      <td>Standing</td>\n",
              "      <td>9.187623e+11</td>\n",
              "      <td>-5.37</td>\n",
              "      <td>8.24</td>\n",
              "      <td>0.190000</td>\n",
              "    </tr>\n",
              "    <tr>\n",
              "      <th>925292</th>\n",
              "      <td>22</td>\n",
              "      <td>Walking</td>\n",
              "      <td>9.187623e+11</td>\n",
              "      <td>6.66</td>\n",
              "      <td>4.29</td>\n",
              "      <td>-2.300000</td>\n",
              "    </tr>\n",
              "  </tbody>\n",
              "</table>\n",
              "<p>100000 rows × 6 columns</p>\n",
              "</div>\n",
              "      <button class=\"colab-df-convert\" onclick=\"convertToInteractive('df-d9a2f091-2507-47f3-9769-bdfddef2037c')\"\n",
              "              title=\"Convert this dataframe to an interactive table.\"\n",
              "              style=\"display:none;\">\n",
              "        \n",
              "  <svg xmlns=\"http://www.w3.org/2000/svg\" height=\"24px\"viewBox=\"0 0 24 24\"\n",
              "       width=\"24px\">\n",
              "    <path d=\"M0 0h24v24H0V0z\" fill=\"none\"/>\n",
              "    <path d=\"M18.56 5.44l.94 2.06.94-2.06 2.06-.94-2.06-.94-.94-2.06-.94 2.06-2.06.94zm-11 1L8.5 8.5l.94-2.06 2.06-.94-2.06-.94L8.5 2.5l-.94 2.06-2.06.94zm10 10l.94 2.06.94-2.06 2.06-.94-2.06-.94-.94-2.06-.94 2.06-2.06.94z\"/><path d=\"M17.41 7.96l-1.37-1.37c-.4-.4-.92-.59-1.43-.59-.52 0-1.04.2-1.43.59L10.3 9.45l-7.72 7.72c-.78.78-.78 2.05 0 2.83L4 21.41c.39.39.9.59 1.41.59.51 0 1.02-.2 1.41-.59l7.78-7.78 2.81-2.81c.8-.78.8-2.07 0-2.86zM5.41 20L4 18.59l7.72-7.72 1.47 1.35L5.41 20z\"/>\n",
              "  </svg>\n",
              "      </button>\n",
              "      \n",
              "  <style>\n",
              "    .colab-df-container {\n",
              "      display:flex;\n",
              "      flex-wrap:wrap;\n",
              "      gap: 12px;\n",
              "    }\n",
              "\n",
              "    .colab-df-convert {\n",
              "      background-color: #E8F0FE;\n",
              "      border: none;\n",
              "      border-radius: 50%;\n",
              "      cursor: pointer;\n",
              "      display: none;\n",
              "      fill: #1967D2;\n",
              "      height: 32px;\n",
              "      padding: 0 0 0 0;\n",
              "      width: 32px;\n",
              "    }\n",
              "\n",
              "    .colab-df-convert:hover {\n",
              "      background-color: #E2EBFA;\n",
              "      box-shadow: 0px 1px 2px rgba(60, 64, 67, 0.3), 0px 1px 3px 1px rgba(60, 64, 67, 0.15);\n",
              "      fill: #174EA6;\n",
              "    }\n",
              "\n",
              "    [theme=dark] .colab-df-convert {\n",
              "      background-color: #3B4455;\n",
              "      fill: #D2E3FC;\n",
              "    }\n",
              "\n",
              "    [theme=dark] .colab-df-convert:hover {\n",
              "      background-color: #434B5C;\n",
              "      box-shadow: 0px 1px 3px 1px rgba(0, 0, 0, 0.15);\n",
              "      filter: drop-shadow(0px 1px 2px rgba(0, 0, 0, 0.3));\n",
              "      fill: #FFFFFF;\n",
              "    }\n",
              "  </style>\n",
              "\n",
              "      <script>\n",
              "        const buttonEl =\n",
              "          document.querySelector('#df-d9a2f091-2507-47f3-9769-bdfddef2037c button.colab-df-convert');\n",
              "        buttonEl.style.display =\n",
              "          google.colab.kernel.accessAllowed ? 'block' : 'none';\n",
              "\n",
              "        async function convertToInteractive(key) {\n",
              "          const element = document.querySelector('#df-d9a2f091-2507-47f3-9769-bdfddef2037c');\n",
              "          const dataTable =\n",
              "            await google.colab.kernel.invokeFunction('convertToInteractive',\n",
              "                                                     [key], {});\n",
              "          if (!dataTable) return;\n",
              "\n",
              "          const docLinkHtml = 'Like what you see? Visit the ' +\n",
              "            '<a target=\"_blank\" href=https://colab.research.google.com/notebooks/data_table.ipynb>data table notebook</a>'\n",
              "            + ' to learn more about interactive tables.';\n",
              "          element.innerHTML = '';\n",
              "          dataTable['output_type'] = 'display_data';\n",
              "          await google.colab.output.renderOutput(dataTable, element);\n",
              "          const docLink = document.createElement('div');\n",
              "          docLink.innerHTML = docLinkHtml;\n",
              "          element.appendChild(docLink);\n",
              "        }\n",
              "      </script>\n",
              "    </div>\n",
              "  </div>\n",
              "  "
            ]
          },
          "metadata": {},
          "execution_count": 14
        }
      ],
      "source": [
        "df.time=df.time.replace(0,np.nan) #把0值取代為空值\n",
        "df = df.dropna() #丟掉空值\n",
        "df.sort_values(by='time',ascending=True).head(100000) #對時間欄位進行資料排序(值小的在前)"
      ]
    },
    {
      "cell_type": "markdown",
      "metadata": {
        "id": "hH_XvgVZ-48k"
      },
      "source": [
        "接下來將時間戳記轉換為時間"
      ]
    },
    {
      "cell_type": "code",
      "execution_count": null,
      "metadata": {
        "id": "NjXnoYpV-9Hz"
      },
      "outputs": [],
      "source": [
        "import time\n",
        "df.time = df.time.apply(lambda x: pd.to_datetime(x, unit='ns'))"
      ]
    },
    {
      "cell_type": "code",
      "execution_count": null,
      "metadata": {
        "colab": {
          "base_uri": "https://localhost:8080/",
          "height": 206
        },
        "id": "fnPnucDbA7QA",
        "outputId": "4caf0cbd-6339-437a-dc8b-a3b783aa061c"
      },
      "outputs": [
        {
          "output_type": "execute_result",
          "data": {
            "text/plain": [
              "   ID      act                       time     x-acc      y-acc     z-acc\n",
              "0  33  Jogging 1970-01-01 13:38:25.962326 -0.694638  12.680544  0.503953\n",
              "1  33  Jogging 1970-01-01 13:38:26.062271  5.012288  11.264028  0.953424\n",
              "2  33  Jogging 1970-01-01 13:38:26.112167  4.903325  10.882658 -0.081722\n",
              "3  33  Jogging 1970-01-01 13:38:26.222305 -0.612916  18.496431  3.023717\n",
              "4  33  Jogging 1970-01-01 13:38:26.332290 -1.184970  12.108489  7.205164"
            ],
            "text/html": [
              "\n",
              "  <div id=\"df-6622bb8d-9db3-42a6-ba5d-204fd1d51416\">\n",
              "    <div class=\"colab-df-container\">\n",
              "      <div>\n",
              "<style scoped>\n",
              "    .dataframe tbody tr th:only-of-type {\n",
              "        vertical-align: middle;\n",
              "    }\n",
              "\n",
              "    .dataframe tbody tr th {\n",
              "        vertical-align: top;\n",
              "    }\n",
              "\n",
              "    .dataframe thead th {\n",
              "        text-align: right;\n",
              "    }\n",
              "</style>\n",
              "<table border=\"1\" class=\"dataframe\">\n",
              "  <thead>\n",
              "    <tr style=\"text-align: right;\">\n",
              "      <th></th>\n",
              "      <th>ID</th>\n",
              "      <th>act</th>\n",
              "      <th>time</th>\n",
              "      <th>x-acc</th>\n",
              "      <th>y-acc</th>\n",
              "      <th>z-acc</th>\n",
              "    </tr>\n",
              "  </thead>\n",
              "  <tbody>\n",
              "    <tr>\n",
              "      <th>0</th>\n",
              "      <td>33</td>\n",
              "      <td>Jogging</td>\n",
              "      <td>1970-01-01 13:38:25.962326</td>\n",
              "      <td>-0.694638</td>\n",
              "      <td>12.680544</td>\n",
              "      <td>0.503953</td>\n",
              "    </tr>\n",
              "    <tr>\n",
              "      <th>1</th>\n",
              "      <td>33</td>\n",
              "      <td>Jogging</td>\n",
              "      <td>1970-01-01 13:38:26.062271</td>\n",
              "      <td>5.012288</td>\n",
              "      <td>11.264028</td>\n",
              "      <td>0.953424</td>\n",
              "    </tr>\n",
              "    <tr>\n",
              "      <th>2</th>\n",
              "      <td>33</td>\n",
              "      <td>Jogging</td>\n",
              "      <td>1970-01-01 13:38:26.112167</td>\n",
              "      <td>4.903325</td>\n",
              "      <td>10.882658</td>\n",
              "      <td>-0.081722</td>\n",
              "    </tr>\n",
              "    <tr>\n",
              "      <th>3</th>\n",
              "      <td>33</td>\n",
              "      <td>Jogging</td>\n",
              "      <td>1970-01-01 13:38:26.222305</td>\n",
              "      <td>-0.612916</td>\n",
              "      <td>18.496431</td>\n",
              "      <td>3.023717</td>\n",
              "    </tr>\n",
              "    <tr>\n",
              "      <th>4</th>\n",
              "      <td>33</td>\n",
              "      <td>Jogging</td>\n",
              "      <td>1970-01-01 13:38:26.332290</td>\n",
              "      <td>-1.184970</td>\n",
              "      <td>12.108489</td>\n",
              "      <td>7.205164</td>\n",
              "    </tr>\n",
              "  </tbody>\n",
              "</table>\n",
              "</div>\n",
              "      <button class=\"colab-df-convert\" onclick=\"convertToInteractive('df-6622bb8d-9db3-42a6-ba5d-204fd1d51416')\"\n",
              "              title=\"Convert this dataframe to an interactive table.\"\n",
              "              style=\"display:none;\">\n",
              "        \n",
              "  <svg xmlns=\"http://www.w3.org/2000/svg\" height=\"24px\"viewBox=\"0 0 24 24\"\n",
              "       width=\"24px\">\n",
              "    <path d=\"M0 0h24v24H0V0z\" fill=\"none\"/>\n",
              "    <path d=\"M18.56 5.44l.94 2.06.94-2.06 2.06-.94-2.06-.94-.94-2.06-.94 2.06-2.06.94zm-11 1L8.5 8.5l.94-2.06 2.06-.94-2.06-.94L8.5 2.5l-.94 2.06-2.06.94zm10 10l.94 2.06.94-2.06 2.06-.94-2.06-.94-.94-2.06-.94 2.06-2.06.94z\"/><path d=\"M17.41 7.96l-1.37-1.37c-.4-.4-.92-.59-1.43-.59-.52 0-1.04.2-1.43.59L10.3 9.45l-7.72 7.72c-.78.78-.78 2.05 0 2.83L4 21.41c.39.39.9.59 1.41.59.51 0 1.02-.2 1.41-.59l7.78-7.78 2.81-2.81c.8-.78.8-2.07 0-2.86zM5.41 20L4 18.59l7.72-7.72 1.47 1.35L5.41 20z\"/>\n",
              "  </svg>\n",
              "      </button>\n",
              "      \n",
              "  <style>\n",
              "    .colab-df-container {\n",
              "      display:flex;\n",
              "      flex-wrap:wrap;\n",
              "      gap: 12px;\n",
              "    }\n",
              "\n",
              "    .colab-df-convert {\n",
              "      background-color: #E8F0FE;\n",
              "      border: none;\n",
              "      border-radius: 50%;\n",
              "      cursor: pointer;\n",
              "      display: none;\n",
              "      fill: #1967D2;\n",
              "      height: 32px;\n",
              "      padding: 0 0 0 0;\n",
              "      width: 32px;\n",
              "    }\n",
              "\n",
              "    .colab-df-convert:hover {\n",
              "      background-color: #E2EBFA;\n",
              "      box-shadow: 0px 1px 2px rgba(60, 64, 67, 0.3), 0px 1px 3px 1px rgba(60, 64, 67, 0.15);\n",
              "      fill: #174EA6;\n",
              "    }\n",
              "\n",
              "    [theme=dark] .colab-df-convert {\n",
              "      background-color: #3B4455;\n",
              "      fill: #D2E3FC;\n",
              "    }\n",
              "\n",
              "    [theme=dark] .colab-df-convert:hover {\n",
              "      background-color: #434B5C;\n",
              "      box-shadow: 0px 1px 3px 1px rgba(0, 0, 0, 0.15);\n",
              "      filter: drop-shadow(0px 1px 2px rgba(0, 0, 0, 0.3));\n",
              "      fill: #FFFFFF;\n",
              "    }\n",
              "  </style>\n",
              "\n",
              "      <script>\n",
              "        const buttonEl =\n",
              "          document.querySelector('#df-6622bb8d-9db3-42a6-ba5d-204fd1d51416 button.colab-df-convert');\n",
              "        buttonEl.style.display =\n",
              "          google.colab.kernel.accessAllowed ? 'block' : 'none';\n",
              "\n",
              "        async function convertToInteractive(key) {\n",
              "          const element = document.querySelector('#df-6622bb8d-9db3-42a6-ba5d-204fd1d51416');\n",
              "          const dataTable =\n",
              "            await google.colab.kernel.invokeFunction('convertToInteractive',\n",
              "                                                     [key], {});\n",
              "          if (!dataTable) return;\n",
              "\n",
              "          const docLinkHtml = 'Like what you see? Visit the ' +\n",
              "            '<a target=\"_blank\" href=https://colab.research.google.com/notebooks/data_table.ipynb>data table notebook</a>'\n",
              "            + ' to learn more about interactive tables.';\n",
              "          element.innerHTML = '';\n",
              "          dataTable['output_type'] = 'display_data';\n",
              "          await google.colab.output.renderOutput(dataTable, element);\n",
              "          const docLink = document.createElement('div');\n",
              "          docLink.innerHTML = docLinkHtml;\n",
              "          element.appendChild(docLink);\n",
              "        }\n",
              "      </script>\n",
              "    </div>\n",
              "  </div>\n",
              "  "
            ]
          },
          "metadata": {},
          "execution_count": 16
        }
      ],
      "source": [
        "df.head()"
      ]
    },
    {
      "cell_type": "markdown",
      "metadata": {
        "id": "8z9gupjCUN95"
      },
      "source": [
        "最後選擇將各筆資料的秒數保留作為特徵值"
      ]
    },
    {
      "cell_type": "code",
      "execution_count": null,
      "metadata": {
        "colab": {
          "base_uri": "https://localhost:8080/"
        },
        "id": "uSfbm3twQEB_",
        "outputId": "62e899f9-62f1-4c4b-a981-234810b52b94"
      },
      "outputs": [
        {
          "output_type": "stream",
          "name": "stdout",
          "text": [
            "   ID      act     x-acc      y-acc     z-acc  sec\n",
            "0  33  Jogging -0.694638  12.680544  0.503953   25\n",
            "1  33  Jogging  5.012288  11.264028  0.953424   26\n",
            "2  33  Jogging  4.903325  10.882658 -0.081722   26\n",
            "3  33  Jogging -0.612916  18.496431  3.023717   26\n",
            "4  33  Jogging -1.184970  12.108489  7.205164   26\n",
            "<class 'pandas.core.frame.DataFrame'>\n",
            "Int64Index: 1085360 entries, 0 to 1098203\n",
            "Data columns (total 6 columns):\n",
            " #   Column  Non-Null Count    Dtype   \n",
            "---  ------  --------------    -----   \n",
            " 0   ID      1085360 non-null  category\n",
            " 1   act     1085360 non-null  category\n",
            " 2   x-acc   1085360 non-null  float64 \n",
            " 3   y-acc   1085360 non-null  float64 \n",
            " 4   z-acc   1085360 non-null  float64 \n",
            " 5   sec     1085360 non-null  int64   \n",
            "dtypes: category(2), float64(3), int64(1)\n",
            "memory usage: 43.5 MB\n"
          ]
        }
      ],
      "source": [
        "df[\"sec\"] = df.time.dt.second\n",
        "df = df.drop(\"time\", axis=1)\n",
        "print(df.head())\n",
        "df.info()"
      ]
    },
    {
      "cell_type": "markdown",
      "metadata": {
        "id": "KPIvsPH4fjPn"
      },
      "source": [
        "將act的動作改為數字標籤"
      ]
    },
    {
      "cell_type": "code",
      "execution_count": null,
      "metadata": {
        "colab": {
          "base_uri": "https://localhost:8080/",
          "height": 206
        },
        "id": "ySTuwlyofnn9",
        "outputId": "ebbe1b44-e486-43aa-e01c-13bad0d5268d"
      },
      "outputs": [
        {
          "output_type": "execute_result",
          "data": {
            "text/plain": [
              "   ID  act     x-acc      y-acc     z-acc  sec\n",
              "0  33    1 -0.694638  12.680544  0.503953   25\n",
              "1  33    1  5.012288  11.264028  0.953424   26\n",
              "2  33    1  4.903325  10.882658 -0.081722   26\n",
              "3  33    1 -0.612916  18.496431  3.023717   26\n",
              "4  33    1 -1.184970  12.108489  7.205164   26"
            ],
            "text/html": [
              "\n",
              "  <div id=\"df-e1457525-bea2-4d9a-96d0-8004784d778b\">\n",
              "    <div class=\"colab-df-container\">\n",
              "      <div>\n",
              "<style scoped>\n",
              "    .dataframe tbody tr th:only-of-type {\n",
              "        vertical-align: middle;\n",
              "    }\n",
              "\n",
              "    .dataframe tbody tr th {\n",
              "        vertical-align: top;\n",
              "    }\n",
              "\n",
              "    .dataframe thead th {\n",
              "        text-align: right;\n",
              "    }\n",
              "</style>\n",
              "<table border=\"1\" class=\"dataframe\">\n",
              "  <thead>\n",
              "    <tr style=\"text-align: right;\">\n",
              "      <th></th>\n",
              "      <th>ID</th>\n",
              "      <th>act</th>\n",
              "      <th>x-acc</th>\n",
              "      <th>y-acc</th>\n",
              "      <th>z-acc</th>\n",
              "      <th>sec</th>\n",
              "    </tr>\n",
              "  </thead>\n",
              "  <tbody>\n",
              "    <tr>\n",
              "      <th>0</th>\n",
              "      <td>33</td>\n",
              "      <td>1</td>\n",
              "      <td>-0.694638</td>\n",
              "      <td>12.680544</td>\n",
              "      <td>0.503953</td>\n",
              "      <td>25</td>\n",
              "    </tr>\n",
              "    <tr>\n",
              "      <th>1</th>\n",
              "      <td>33</td>\n",
              "      <td>1</td>\n",
              "      <td>5.012288</td>\n",
              "      <td>11.264028</td>\n",
              "      <td>0.953424</td>\n",
              "      <td>26</td>\n",
              "    </tr>\n",
              "    <tr>\n",
              "      <th>2</th>\n",
              "      <td>33</td>\n",
              "      <td>1</td>\n",
              "      <td>4.903325</td>\n",
              "      <td>10.882658</td>\n",
              "      <td>-0.081722</td>\n",
              "      <td>26</td>\n",
              "    </tr>\n",
              "    <tr>\n",
              "      <th>3</th>\n",
              "      <td>33</td>\n",
              "      <td>1</td>\n",
              "      <td>-0.612916</td>\n",
              "      <td>18.496431</td>\n",
              "      <td>3.023717</td>\n",
              "      <td>26</td>\n",
              "    </tr>\n",
              "    <tr>\n",
              "      <th>4</th>\n",
              "      <td>33</td>\n",
              "      <td>1</td>\n",
              "      <td>-1.184970</td>\n",
              "      <td>12.108489</td>\n",
              "      <td>7.205164</td>\n",
              "      <td>26</td>\n",
              "    </tr>\n",
              "  </tbody>\n",
              "</table>\n",
              "</div>\n",
              "      <button class=\"colab-df-convert\" onclick=\"convertToInteractive('df-e1457525-bea2-4d9a-96d0-8004784d778b')\"\n",
              "              title=\"Convert this dataframe to an interactive table.\"\n",
              "              style=\"display:none;\">\n",
              "        \n",
              "  <svg xmlns=\"http://www.w3.org/2000/svg\" height=\"24px\"viewBox=\"0 0 24 24\"\n",
              "       width=\"24px\">\n",
              "    <path d=\"M0 0h24v24H0V0z\" fill=\"none\"/>\n",
              "    <path d=\"M18.56 5.44l.94 2.06.94-2.06 2.06-.94-2.06-.94-.94-2.06-.94 2.06-2.06.94zm-11 1L8.5 8.5l.94-2.06 2.06-.94-2.06-.94L8.5 2.5l-.94 2.06-2.06.94zm10 10l.94 2.06.94-2.06 2.06-.94-2.06-.94-.94-2.06-.94 2.06-2.06.94z\"/><path d=\"M17.41 7.96l-1.37-1.37c-.4-.4-.92-.59-1.43-.59-.52 0-1.04.2-1.43.59L10.3 9.45l-7.72 7.72c-.78.78-.78 2.05 0 2.83L4 21.41c.39.39.9.59 1.41.59.51 0 1.02-.2 1.41-.59l7.78-7.78 2.81-2.81c.8-.78.8-2.07 0-2.86zM5.41 20L4 18.59l7.72-7.72 1.47 1.35L5.41 20z\"/>\n",
              "  </svg>\n",
              "      </button>\n",
              "      \n",
              "  <style>\n",
              "    .colab-df-container {\n",
              "      display:flex;\n",
              "      flex-wrap:wrap;\n",
              "      gap: 12px;\n",
              "    }\n",
              "\n",
              "    .colab-df-convert {\n",
              "      background-color: #E8F0FE;\n",
              "      border: none;\n",
              "      border-radius: 50%;\n",
              "      cursor: pointer;\n",
              "      display: none;\n",
              "      fill: #1967D2;\n",
              "      height: 32px;\n",
              "      padding: 0 0 0 0;\n",
              "      width: 32px;\n",
              "    }\n",
              "\n",
              "    .colab-df-convert:hover {\n",
              "      background-color: #E2EBFA;\n",
              "      box-shadow: 0px 1px 2px rgba(60, 64, 67, 0.3), 0px 1px 3px 1px rgba(60, 64, 67, 0.15);\n",
              "      fill: #174EA6;\n",
              "    }\n",
              "\n",
              "    [theme=dark] .colab-df-convert {\n",
              "      background-color: #3B4455;\n",
              "      fill: #D2E3FC;\n",
              "    }\n",
              "\n",
              "    [theme=dark] .colab-df-convert:hover {\n",
              "      background-color: #434B5C;\n",
              "      box-shadow: 0px 1px 3px 1px rgba(0, 0, 0, 0.15);\n",
              "      filter: drop-shadow(0px 1px 2px rgba(0, 0, 0, 0.3));\n",
              "      fill: #FFFFFF;\n",
              "    }\n",
              "  </style>\n",
              "\n",
              "      <script>\n",
              "        const buttonEl =\n",
              "          document.querySelector('#df-e1457525-bea2-4d9a-96d0-8004784d778b button.colab-df-convert');\n",
              "        buttonEl.style.display =\n",
              "          google.colab.kernel.accessAllowed ? 'block' : 'none';\n",
              "\n",
              "        async function convertToInteractive(key) {\n",
              "          const element = document.querySelector('#df-e1457525-bea2-4d9a-96d0-8004784d778b');\n",
              "          const dataTable =\n",
              "            await google.colab.kernel.invokeFunction('convertToInteractive',\n",
              "                                                     [key], {});\n",
              "          if (!dataTable) return;\n",
              "\n",
              "          const docLinkHtml = 'Like what you see? Visit the ' +\n",
              "            '<a target=\"_blank\" href=https://colab.research.google.com/notebooks/data_table.ipynb>data table notebook</a>'\n",
              "            + ' to learn more about interactive tables.';\n",
              "          element.innerHTML = '';\n",
              "          dataTable['output_type'] = 'display_data';\n",
              "          await google.colab.output.renderOutput(dataTable, element);\n",
              "          const docLink = document.createElement('div');\n",
              "          docLink.innerHTML = docLinkHtml;\n",
              "          element.appendChild(docLink);\n",
              "        }\n",
              "      </script>\n",
              "    </div>\n",
              "  </div>\n",
              "  "
            ]
          },
          "metadata": {},
          "execution_count": 18
        }
      ],
      "source": [
        "df[\"act\"] = [0 if i == \"Walking\" else i for i in df[\"act\"]]\n",
        "df[\"act\"] = [1 if i == \"Jogging\" else i for i in df[\"act\"]]\n",
        "df[\"act\"] = [2 if i == \"Upstairs\" else i for i in df[\"act\"]]\n",
        "df[\"act\"] = [3 if i == \"Downstairs\" else i for i in df[\"act\"]]\n",
        "df[\"act\"] = [4 if i == \"Sitting\" else i for i in df[\"act\"]]\n",
        "df[\"act\"] = [5 if i == \"Standing\" else i for i in df[\"act\"]]\n",
        "df.head()"
      ]
    },
    {
      "cell_type": "markdown",
      "metadata": {
        "id": "uFpUeN2OjEXd"
      },
      "source": [
        "改完後最後確認資料型態"
      ]
    },
    {
      "cell_type": "code",
      "execution_count": null,
      "metadata": {
        "colab": {
          "base_uri": "https://localhost:8080/"
        },
        "id": "M5xSU-AZjHFM",
        "outputId": "179a5bb3-3208-47a0-9dde-f3f0febb64a6"
      },
      "outputs": [
        {
          "output_type": "stream",
          "name": "stdout",
          "text": [
            "<class 'pandas.core.frame.DataFrame'>\n",
            "Int64Index: 1085360 entries, 0 to 1098203\n",
            "Data columns (total 6 columns):\n",
            " #   Column  Non-Null Count    Dtype   \n",
            "---  ------  --------------    -----   \n",
            " 0   ID      1085360 non-null  category\n",
            " 1   act     1085360 non-null  category\n",
            " 2   x-acc   1085360 non-null  float64 \n",
            " 3   y-acc   1085360 non-null  float64 \n",
            " 4   z-acc   1085360 non-null  float64 \n",
            " 5   sec     1085360 non-null  int64   \n",
            "dtypes: category(2), float64(3), int64(1)\n",
            "memory usage: 43.5 MB\n"
          ]
        }
      ],
      "source": [
        "df.act = df.act.astype(\"category\")\n",
        "df.info()"
      ]
    },
    {
      "cell_type": "markdown",
      "metadata": {
        "id": "JWuwcHa5jImu"
      },
      "source": [
        "最後記得把df丟回去給Train_data"
      ]
    },
    {
      "cell_type": "code",
      "execution_count": null,
      "metadata": {
        "colab": {
          "base_uri": "https://localhost:8080/",
          "height": 423
        },
        "id": "1qiIP4wKVsVp",
        "outputId": "a814f1e8-bc0a-44fa-91d3-ec5a43003cf6"
      },
      "outputs": [
        {
          "output_type": "execute_result",
          "data": {
            "text/plain": [
              "         ID act     x-acc      y-acc     z-acc  sec\n",
              "0        33   1 -0.694638  12.680544  0.503953   25\n",
              "1        33   1  5.012288  11.264028  0.953424   26\n",
              "2        33   1  4.903325  10.882658 -0.081722   26\n",
              "3        33   1 -0.612916  18.496431  3.023717   26\n",
              "4        33   1 -1.184970  12.108489  7.205164   26\n",
              "...      ..  ..       ...        ...       ...  ...\n",
              "1098199  19   4  9.000000  -1.570000  1.690000   43\n",
              "1098200  19   4  9.040000  -1.460000  1.730000   43\n",
              "1098201  19   4  9.080000  -1.380000  1.690000   43\n",
              "1098202  19   4  9.000000  -1.460000  1.730000   43\n",
              "1098203  19   4  8.880000  -1.330000  1.610000   43\n",
              "\n",
              "[1085360 rows x 6 columns]"
            ],
            "text/html": [
              "\n",
              "  <div id=\"df-f52787d2-0135-4dc7-8f65-34e76687f0d5\">\n",
              "    <div class=\"colab-df-container\">\n",
              "      <div>\n",
              "<style scoped>\n",
              "    .dataframe tbody tr th:only-of-type {\n",
              "        vertical-align: middle;\n",
              "    }\n",
              "\n",
              "    .dataframe tbody tr th {\n",
              "        vertical-align: top;\n",
              "    }\n",
              "\n",
              "    .dataframe thead th {\n",
              "        text-align: right;\n",
              "    }\n",
              "</style>\n",
              "<table border=\"1\" class=\"dataframe\">\n",
              "  <thead>\n",
              "    <tr style=\"text-align: right;\">\n",
              "      <th></th>\n",
              "      <th>ID</th>\n",
              "      <th>act</th>\n",
              "      <th>x-acc</th>\n",
              "      <th>y-acc</th>\n",
              "      <th>z-acc</th>\n",
              "      <th>sec</th>\n",
              "    </tr>\n",
              "  </thead>\n",
              "  <tbody>\n",
              "    <tr>\n",
              "      <th>0</th>\n",
              "      <td>33</td>\n",
              "      <td>1</td>\n",
              "      <td>-0.694638</td>\n",
              "      <td>12.680544</td>\n",
              "      <td>0.503953</td>\n",
              "      <td>25</td>\n",
              "    </tr>\n",
              "    <tr>\n",
              "      <th>1</th>\n",
              "      <td>33</td>\n",
              "      <td>1</td>\n",
              "      <td>5.012288</td>\n",
              "      <td>11.264028</td>\n",
              "      <td>0.953424</td>\n",
              "      <td>26</td>\n",
              "    </tr>\n",
              "    <tr>\n",
              "      <th>2</th>\n",
              "      <td>33</td>\n",
              "      <td>1</td>\n",
              "      <td>4.903325</td>\n",
              "      <td>10.882658</td>\n",
              "      <td>-0.081722</td>\n",
              "      <td>26</td>\n",
              "    </tr>\n",
              "    <tr>\n",
              "      <th>3</th>\n",
              "      <td>33</td>\n",
              "      <td>1</td>\n",
              "      <td>-0.612916</td>\n",
              "      <td>18.496431</td>\n",
              "      <td>3.023717</td>\n",
              "      <td>26</td>\n",
              "    </tr>\n",
              "    <tr>\n",
              "      <th>4</th>\n",
              "      <td>33</td>\n",
              "      <td>1</td>\n",
              "      <td>-1.184970</td>\n",
              "      <td>12.108489</td>\n",
              "      <td>7.205164</td>\n",
              "      <td>26</td>\n",
              "    </tr>\n",
              "    <tr>\n",
              "      <th>...</th>\n",
              "      <td>...</td>\n",
              "      <td>...</td>\n",
              "      <td>...</td>\n",
              "      <td>...</td>\n",
              "      <td>...</td>\n",
              "      <td>...</td>\n",
              "    </tr>\n",
              "    <tr>\n",
              "      <th>1098199</th>\n",
              "      <td>19</td>\n",
              "      <td>4</td>\n",
              "      <td>9.000000</td>\n",
              "      <td>-1.570000</td>\n",
              "      <td>1.690000</td>\n",
              "      <td>43</td>\n",
              "    </tr>\n",
              "    <tr>\n",
              "      <th>1098200</th>\n",
              "      <td>19</td>\n",
              "      <td>4</td>\n",
              "      <td>9.040000</td>\n",
              "      <td>-1.460000</td>\n",
              "      <td>1.730000</td>\n",
              "      <td>43</td>\n",
              "    </tr>\n",
              "    <tr>\n",
              "      <th>1098201</th>\n",
              "      <td>19</td>\n",
              "      <td>4</td>\n",
              "      <td>9.080000</td>\n",
              "      <td>-1.380000</td>\n",
              "      <td>1.690000</td>\n",
              "      <td>43</td>\n",
              "    </tr>\n",
              "    <tr>\n",
              "      <th>1098202</th>\n",
              "      <td>19</td>\n",
              "      <td>4</td>\n",
              "      <td>9.000000</td>\n",
              "      <td>-1.460000</td>\n",
              "      <td>1.730000</td>\n",
              "      <td>43</td>\n",
              "    </tr>\n",
              "    <tr>\n",
              "      <th>1098203</th>\n",
              "      <td>19</td>\n",
              "      <td>4</td>\n",
              "      <td>8.880000</td>\n",
              "      <td>-1.330000</td>\n",
              "      <td>1.610000</td>\n",
              "      <td>43</td>\n",
              "    </tr>\n",
              "  </tbody>\n",
              "</table>\n",
              "<p>1085360 rows × 6 columns</p>\n",
              "</div>\n",
              "      <button class=\"colab-df-convert\" onclick=\"convertToInteractive('df-f52787d2-0135-4dc7-8f65-34e76687f0d5')\"\n",
              "              title=\"Convert this dataframe to an interactive table.\"\n",
              "              style=\"display:none;\">\n",
              "        \n",
              "  <svg xmlns=\"http://www.w3.org/2000/svg\" height=\"24px\"viewBox=\"0 0 24 24\"\n",
              "       width=\"24px\">\n",
              "    <path d=\"M0 0h24v24H0V0z\" fill=\"none\"/>\n",
              "    <path d=\"M18.56 5.44l.94 2.06.94-2.06 2.06-.94-2.06-.94-.94-2.06-.94 2.06-2.06.94zm-11 1L8.5 8.5l.94-2.06 2.06-.94-2.06-.94L8.5 2.5l-.94 2.06-2.06.94zm10 10l.94 2.06.94-2.06 2.06-.94-2.06-.94-.94-2.06-.94 2.06-2.06.94z\"/><path d=\"M17.41 7.96l-1.37-1.37c-.4-.4-.92-.59-1.43-.59-.52 0-1.04.2-1.43.59L10.3 9.45l-7.72 7.72c-.78.78-.78 2.05 0 2.83L4 21.41c.39.39.9.59 1.41.59.51 0 1.02-.2 1.41-.59l7.78-7.78 2.81-2.81c.8-.78.8-2.07 0-2.86zM5.41 20L4 18.59l7.72-7.72 1.47 1.35L5.41 20z\"/>\n",
              "  </svg>\n",
              "      </button>\n",
              "      \n",
              "  <style>\n",
              "    .colab-df-container {\n",
              "      display:flex;\n",
              "      flex-wrap:wrap;\n",
              "      gap: 12px;\n",
              "    }\n",
              "\n",
              "    .colab-df-convert {\n",
              "      background-color: #E8F0FE;\n",
              "      border: none;\n",
              "      border-radius: 50%;\n",
              "      cursor: pointer;\n",
              "      display: none;\n",
              "      fill: #1967D2;\n",
              "      height: 32px;\n",
              "      padding: 0 0 0 0;\n",
              "      width: 32px;\n",
              "    }\n",
              "\n",
              "    .colab-df-convert:hover {\n",
              "      background-color: #E2EBFA;\n",
              "      box-shadow: 0px 1px 2px rgba(60, 64, 67, 0.3), 0px 1px 3px 1px rgba(60, 64, 67, 0.15);\n",
              "      fill: #174EA6;\n",
              "    }\n",
              "\n",
              "    [theme=dark] .colab-df-convert {\n",
              "      background-color: #3B4455;\n",
              "      fill: #D2E3FC;\n",
              "    }\n",
              "\n",
              "    [theme=dark] .colab-df-convert:hover {\n",
              "      background-color: #434B5C;\n",
              "      box-shadow: 0px 1px 3px 1px rgba(0, 0, 0, 0.15);\n",
              "      filter: drop-shadow(0px 1px 2px rgba(0, 0, 0, 0.3));\n",
              "      fill: #FFFFFF;\n",
              "    }\n",
              "  </style>\n",
              "\n",
              "      <script>\n",
              "        const buttonEl =\n",
              "          document.querySelector('#df-f52787d2-0135-4dc7-8f65-34e76687f0d5 button.colab-df-convert');\n",
              "        buttonEl.style.display =\n",
              "          google.colab.kernel.accessAllowed ? 'block' : 'none';\n",
              "\n",
              "        async function convertToInteractive(key) {\n",
              "          const element = document.querySelector('#df-f52787d2-0135-4dc7-8f65-34e76687f0d5');\n",
              "          const dataTable =\n",
              "            await google.colab.kernel.invokeFunction('convertToInteractive',\n",
              "                                                     [key], {});\n",
              "          if (!dataTable) return;\n",
              "\n",
              "          const docLinkHtml = 'Like what you see? Visit the ' +\n",
              "            '<a target=\"_blank\" href=https://colab.research.google.com/notebooks/data_table.ipynb>data table notebook</a>'\n",
              "            + ' to learn more about interactive tables.';\n",
              "          element.innerHTML = '';\n",
              "          dataTable['output_type'] = 'display_data';\n",
              "          await google.colab.output.renderOutput(dataTable, element);\n",
              "          const docLink = document.createElement('div');\n",
              "          docLink.innerHTML = docLinkHtml;\n",
              "          element.appendChild(docLink);\n",
              "        }\n",
              "      </script>\n",
              "    </div>\n",
              "  </div>\n",
              "  "
            ]
          },
          "metadata": {},
          "execution_count": 20
        }
      ],
      "source": [
        "train_data = df\n",
        "train_data"
      ]
    },
    {
      "cell_type": "markdown",
      "metadata": {
        "id": "WKF8UC1dws8I"
      },
      "source": [
        "對整理好的資料作Label處理"
      ]
    },
    {
      "cell_type": "code",
      "execution_count": null,
      "metadata": {
        "colab": {
          "base_uri": "https://localhost:8080/"
        },
        "id": "aHZyi_4gwtj_",
        "outputId": "881cd0db-5ada-4f09-86ae-defdaf16f56e"
      },
      "outputs": [
        {
          "output_type": "stream",
          "name": "stderr",
          "text": [
            "<ipython-input-21-c509d91ee037>:7: SettingWithCopyWarning: \n",
            "A value is trying to be set on a copy of a slice from a DataFrame.\n",
            "Try using .loc[row_indexer,col_indexer] = value instead\n",
            "\n",
            "See the caveats in the documentation: https://pandas.pydata.org/pandas-docs/stable/user_guide/indexing.html#returning-a-view-versus-a-copy\n",
            "  str_train[\"act\"] = encoded_Label_training\n"
          ]
        },
        {
          "output_type": "execute_result",
          "data": {
            "text/plain": [
              "0    423905\n",
              "1    330330\n",
              "2    122598\n",
              "3    100194\n",
              "4     59939\n",
              "5     48394\n",
              "Name: act, dtype: int64"
            ]
          },
          "metadata": {},
          "execution_count": 21
        }
      ],
      "source": [
        "from sklearn.preprocessing import LabelEncoder\n",
        "str_train = train_data.select_dtypes(include=['object',\"category\"])\n",
        "le_label = LabelEncoder()\n",
        "le_label.fit(str_train[\"act\"])\n",
        "\n",
        "encoded_Label_training = le_label.transform(str_train[\"act\"])\n",
        "str_train[\"act\"] = encoded_Label_training\n",
        "str_train[\"act\"].value_counts()\n",
        "train_data[\"act\"] = str_train[\"act\"]\n",
        "train_data.act = train_data.act.astype(\"category\")\n",
        "train_data[\"act\"].value_counts()"
      ]
    },
    {
      "cell_type": "markdown",
      "metadata": {
        "id": "RFeRF62vOG2Y"
      },
      "source": [
        "# **資料分割**  \n",
        "把Train_data分割成訓練、測試資料"
      ]
    },
    {
      "cell_type": "code",
      "execution_count": null,
      "metadata": {
        "id": "wS3MMawFFGVU"
      },
      "outputs": [],
      "source": [
        "from sklearn.model_selection import train_test_split\n",
        "feaCols = [col for col in train_data.columns if col!=\"act\"]\n",
        "X_train,X_test,y_train,y_test = train_test_split(train_data[feaCols], train_data[\"act\"], test_size=0.3, random_state=0)"
      ]
    },
    {
      "cell_type": "markdown",
      "metadata": {
        "id": "MoVo95rBZZ33"
      },
      "source": [
        "用StandardScaler做資料正規化"
      ]
    },
    {
      "cell_type": "code",
      "execution_count": null,
      "metadata": {
        "id": "OfUGerVwZZUR"
      },
      "outputs": [],
      "source": [
        "from sklearn.preprocessing import StandardScaler\n",
        "sc = StandardScaler()\n",
        "sc.fit(X_train)\n",
        "X_train_Std = sc.transform(X_train)\n",
        "X_test_Std = sc.transform(X_test)\n",
        "#等等要給RNN的\n",
        "RNNX_train_Std = X_train_Std\n",
        "RNNX_test_Std= X_test_Std\n",
        "#等等要給CNN的\n",
        "CNNX_train_Std = X_train_Std\n",
        "CNNX_test_Std= X_test_Std\n",
        "#等等要給LCRN的\n",
        "LCRNX_train_Std = X_train_Std\n",
        "LCRX_test_Std= X_test_Std"
      ]
    },
    {
      "cell_type": "markdown",
      "metadata": {
        "id": "rnFLqXfBoW3S"
      },
      "source": [
        "做onehot編碼(不做餵不進去模型)"
      ]
    },
    {
      "cell_type": "code",
      "execution_count": null,
      "metadata": {
        "id": "5erbZf_coXYX"
      },
      "outputs": [],
      "source": [
        "from keras.utils import to_categorical\n",
        "y_TrainOneHot = to_categorical(y_train,num_classes=6)\n",
        "y_TestOneHot = to_categorical(y_test,num_classes=6)\n",
        "#等等要給RNN的\n",
        "RNNy_TrainOneHot = y_TrainOneHot\n",
        "RNNy_TestOneHot = y_TestOneHot\n",
        "#等等要給CNN的\n",
        "CNNy_TrainOneHot = y_TrainOneHot\n",
        "CNNy_TestOneHot = y_TestOneHot\n",
        "#等等要給LCRN的\n",
        "LCRNy_TrainOneHot = y_TrainOneHot\n",
        "LCRNy_TestOneHot = y_TestOneHot"
      ]
    },
    {
      "cell_type": "code",
      "execution_count": null,
      "metadata": {
        "colab": {
          "base_uri": "https://localhost:8080/"
        },
        "id": "swBqWCrqgw0E",
        "outputId": "12ecc80f-a495-432f-ae99-e91c4a6a4763"
      },
      "outputs": [
        {
          "output_type": "stream",
          "name": "stdout",
          "text": [
            "(759752, 5)\n",
            "(325608, 5)\n",
            "(759752, 6)\n",
            "(325608, 6)\n"
          ]
        }
      ],
      "source": [
        "print(X_train_Std.shape)\n",
        "print(X_test_Std.shape)\n",
        "print(y_TrainOneHot.shape)\n",
        "print(y_TestOneHot.shape)\n"
      ]
    },
    {
      "cell_type": "markdown",
      "metadata": {
        "id": "L2rwkoyGOSwx"
      },
      "source": [
        "# **建立模型**"
      ]
    },
    {
      "cell_type": "markdown",
      "metadata": {
        "id": "VQ0-25p4k_Fx"
      },
      "source": [
        "**DNN**(深度神經網路)  \n",
        "深度神經網路是前向傳播網路(Feed Forward Networks)，數據從輸入層流往輸出層，資  \n",
        "料不會再退回去。舉個例子，廚師會給你關於飯菜的想法，但你再次吃到相同口味的菜跟  \n",
        "食材時你的腦袋不會有任何記憶，這就是DNN的概念，但這跟人腦的運作方式是不一樣的。"
      ]
    },
    {
      "cell_type": "markdown",
      "metadata": {
        "id": "GsJRdQe_0ptE"
      },
      "source": [
        "進行建模  \n",
        "Input_Layer : Size = 64  \n",
        "Hidden_Layer : Size = 128 ，activation=’relu’   \n",
        "Hidden_Layer : Size = 256 ，activation=’relu’   \n",
        "Output_Layer : Size = 6 ，activation=’softmax’  \n",
        "用categorical_crossentropy作為預測分類的Loss Function  \n",
        "用Adam作為模型優化器  \n",
        "用accuracy算準確率  "
      ]
    },
    {
      "cell_type": "code",
      "execution_count": null,
      "metadata": {
        "id": "3N9SvAcBzzj-"
      },
      "outputs": [],
      "source": [
        "from tensorflow import keras\n",
        "from keras.models import Sequential\n",
        "from keras.layers import Activation, Dense\n",
        "def buildModelDNN(shape):\n",
        "    model = Sequential()\n",
        "    \n",
        "    model.add(Dense(units=64, input_dim=shape[1], kernel_initializer='normal', activation='relu'))\n",
        "    model.add(Dense(units=128, kernel_initializer='normal', activation='relu'))\n",
        "    model.add(Dense(units=256, kernel_initializer='normal', activation='relu')) \n",
        "    model.add(Dense(units=512, kernel_initializer='normal', activation='relu'))\n",
        "    \n",
        "    model.add(Dense(units=6, kernel_initializer='normal', activation='softmax'))\n",
        "    model.compile(loss='categorical_crossentropy', optimizer='adam', metrics=['accuracy']) \n",
        "\n",
        "    return model"
      ]
    },
    {
      "cell_type": "code",
      "execution_count": null,
      "metadata": {
        "colab": {
          "base_uri": "https://localhost:8080/"
        },
        "id": "xrQCLid709pL",
        "outputId": "d7e81676-6a12-4d46-9e8a-607fd1a7fd83"
      },
      "outputs": [
        {
          "output_type": "stream",
          "name": "stdout",
          "text": [
            "(759752, 5)\n",
            "Model: \"sequential\"\n",
            "_________________________________________________________________\n",
            " Layer (type)                Output Shape              Param #   \n",
            "=================================================================\n",
            " dense (Dense)               (None, 64)                384       \n",
            "                                                                 \n",
            " dense_1 (Dense)             (None, 128)               8320      \n",
            "                                                                 \n",
            " dense_2 (Dense)             (None, 256)               33024     \n",
            "                                                                 \n",
            " dense_3 (Dense)             (None, 512)               131584    \n",
            "                                                                 \n",
            " dense_4 (Dense)             (None, 6)                 3078      \n",
            "                                                                 \n",
            "=================================================================\n",
            "Total params: 176,390\n",
            "Trainable params: 176,390\n",
            "Non-trainable params: 0\n",
            "_________________________________________________________________\n",
            "Epoch 1/10\n",
            "18994/18994 - 64s - loss: 0.9269 - accuracy: 0.6424 - val_loss: 0.8413 - val_accuracy: 0.6759 - 64s/epoch - 3ms/step\n",
            "Epoch 2/10\n",
            "18994/18994 - 62s - loss: 0.8074 - accuracy: 0.6901 - val_loss: 0.7825 - val_accuracy: 0.7018 - 62s/epoch - 3ms/step\n",
            "Epoch 3/10\n",
            "18994/18994 - 61s - loss: 0.7545 - accuracy: 0.7124 - val_loss: 0.7449 - val_accuracy: 0.7156 - 61s/epoch - 3ms/step\n",
            "Epoch 4/10\n",
            "18994/18994 - 62s - loss: 0.7208 - accuracy: 0.7255 - val_loss: 0.7194 - val_accuracy: 0.7270 - 62s/epoch - 3ms/step\n",
            "Epoch 5/10\n",
            "18994/18994 - 71s - loss: 0.6966 - accuracy: 0.7341 - val_loss: 0.6904 - val_accuracy: 0.7374 - 71s/epoch - 4ms/step\n",
            "Epoch 6/10\n",
            "18994/18994 - 61s - loss: 0.6801 - accuracy: 0.7404 - val_loss: 0.6803 - val_accuracy: 0.7417 - 61s/epoch - 3ms/step\n",
            "Epoch 7/10\n",
            "18994/18994 - 61s - loss: 0.6679 - accuracy: 0.7447 - val_loss: 0.6727 - val_accuracy: 0.7427 - 61s/epoch - 3ms/step\n",
            "Epoch 8/10\n",
            "18994/18994 - 60s - loss: 0.6584 - accuracy: 0.7482 - val_loss: 0.6644 - val_accuracy: 0.7474 - 60s/epoch - 3ms/step\n",
            "Epoch 9/10\n",
            "18994/18994 - 59s - loss: 0.6517 - accuracy: 0.7506 - val_loss: 0.6671 - val_accuracy: 0.7463 - 59s/epoch - 3ms/step\n",
            "Epoch 10/10\n",
            "18994/18994 - 61s - loss: 0.6466 - accuracy: 0.7528 - val_loss: 0.6588 - val_accuracy: 0.7491 - 61s/epoch - 3ms/step\n"
          ]
        }
      ],
      "source": [
        "print(X_train_Std.shape)\n",
        "model = buildModelDNN(X_train_Std.shape)\n",
        "model.summary()\n",
        "train_history = model.fit(X_train_Std, y_TrainOneHot, validation_split=0.2, epochs=10, batch_size=32, verbose=2) "
      ]
    },
    {
      "cell_type": "code",
      "execution_count": null,
      "metadata": {
        "colab": {
          "base_uri": "https://localhost:8080/"
        },
        "id": "sMwtTK_51aNH",
        "outputId": "5d2a986b-c428-4507-8097-c6566b39ecc6"
      },
      "outputs": [
        {
          "output_type": "stream",
          "name": "stdout",
          "text": [
            "10176/10176 [==============================] - 27s 3ms/step - loss: 0.6606 - accuracy: 0.7483\n",
            "Loss :0.6605833768844604 , Accuracy:0.7483446598052979 \n"
          ]
        }
      ],
      "source": [
        "DNNscores = model.evaluate(X_test_Std, y_TestOneHot)  \n",
        "print('Loss :{} , Accuracy:{} '.format(DNNscores[0],DNNscores[1]))"
      ]
    },
    {
      "cell_type": "markdown",
      "metadata": {
        "id": "5Q9xmztf8cBb"
      },
      "source": [
        "**RNN**(循環神經網路)  \n",
        "RNN可以說是改良的DNN，具有時間扭曲的特性，訊息會再流通回去，他有內存機制來  \n",
        "處理這些序列資料，RNN可以提供現在以及過去的訊息，這也代表任何拿來訓練  \n",
        "的資料都非常重要。這裡有一個小重點：當訊息隨著時間序列的推移而消失時，失去  \n",
        "的是資料處理的權重，而不是真正的神經元。  \n",
        "\n",
        "---\n",
        "*這邊選擇用LSTM(長短期記憶模型)  \n",
        "因應RNN會有梯度消失問題，無法在長時間序列上有好的記憶性表現，因此通過3種閘門  \n",
        "控制，結合短期記憶與長期記憶，分別是input gate,forget gate,output gate，  \n",
        "因為沒時間處理好GRU但畢竟成效差不多所以先使用LSTM看看\n",
        "。"
      ]
    },
    {
      "cell_type": "markdown",
      "metadata": {
        "id": "Fuo3-xyHHcZk"
      },
      "source": [
        "將訓練跟測試資料reshape成LSTM的格式"
      ]
    },
    {
      "cell_type": "code",
      "execution_count": null,
      "metadata": {
        "colab": {
          "base_uri": "https://localhost:8080/"
        },
        "id": "Xt8nMjonw6C1",
        "outputId": "5473e210-2b90-423e-bdbd-f86364c38e61"
      },
      "outputs": [
        {
          "output_type": "stream",
          "name": "stdout",
          "text": [
            "(759752, 5, 1) (325608, 5, 1)\n"
          ]
        }
      ],
      "source": [
        "RNNX_train = RNNX_train_Std.reshape(len(X_train), X_train.shape[1], 1)\n",
        "RNNX_test = RNNX_test_Std.reshape(len(X_test), X_test.shape[1], 1)\n",
        "print(RNNX_train.shape, RNNX_test.shape)  \n",
        "n_features = 1"
      ]
    },
    {
      "cell_type": "markdown",
      "metadata": {
        "id": "T__j_UGli5sZ"
      },
      "source": [
        "建模  \n",
        "結構跟上面DNN差不多"
      ]
    },
    {
      "cell_type": "code",
      "execution_count": null,
      "metadata": {
        "id": "4TwOGIouqwK8"
      },
      "outputs": [],
      "source": [
        "from tensorflow import keras\n",
        "from tensorflow.keras import layers\n",
        "from keras.models import Sequential\n",
        "from keras.layers import LSTM\n",
        "\n",
        "def buildModelRNN(shape):\n",
        "    model = Sequential()\n",
        "    model.add(LSTM(64, activation='relu',input_shape=[shape[1], n_features],return_sequences=True)) \n",
        "    model.add(LSTM(128, activation='relu',return_sequences=True))\n",
        "    model.add(LSTM(128)))     \n",
        "    model.add(Dense(6))\n",
        "    model.compile(optimizer='adam', loss='mse', metrics=['accuracy'])\n",
        "    \n",
        "    return model"
      ]
    },
    {
      "cell_type": "markdown",
      "metadata": {
        "id": "fGDdQcT1GuKt"
      },
      "source": [
        "訓練模型"
      ]
    },
    {
      "cell_type": "code",
      "execution_count": null,
      "metadata": {
        "colab": {
          "base_uri": "https://localhost:8080/"
        },
        "id": "PdHBWo3x0s7b",
        "outputId": "77eae313-04d0-42fb-dfac-7207f2a40d46"
      },
      "outputs": [
        {
          "metadata": {
            "tags": null
          },
          "name": "stderr",
          "output_type": "stream",
          "text": [
            "WARNING:tensorflow:Layer lstm will not use cuDNN kernels since it doesn't meet the criteria. It will use a generic GPU kernel as fallback when running on GPU.\n",
            "WARNING:tensorflow:Layer lstm_1 will not use cuDNN kernels since it doesn't meet the criteria. It will use a generic GPU kernel as fallback when running on GPU.\n"
          ]
        },
        {
          "output_type": "stream",
          "name": "stdout",
          "text": [
            "Model: \"sequential_1\"\n",
            "_________________________________________________________________\n",
            " Layer (type)                Output Shape              Param #   \n",
            "=================================================================\n",
            " lstm (LSTM)                 (None, 5, 64)             16896     \n",
            "                                                                 \n",
            " lstm_1 (LSTM)               (None, 5, 128)            98816     \n",
            "                                                                 \n",
            " lstm_2 (LSTM)               (None, 256)               394240    \n",
            "                                                                 \n",
            " dense_5 (Dense)             (None, 6)                 1542      \n",
            "                                                                 \n",
            "=================================================================\n",
            "Total params: 511,494\n",
            "Trainable params: 511,494\n",
            "Non-trainable params: 0\n",
            "_________________________________________________________________\n",
            "Epoch 1/10\n",
            "18994/18994 - 515s - loss: 0.0845 - accuracy: 0.6304 - val_loss: 0.0722 - val_accuracy: 0.6908 - 515s/epoch - 27ms/step\n",
            "Epoch 2/10\n",
            "18994/18994 - 506s - loss: 0.0663 - accuracy: 0.7152 - val_loss: 0.0622 - val_accuracy: 0.7329 - 506s/epoch - 27ms/step\n",
            "Epoch 3/10\n",
            "18994/18994 - 503s - loss: 0.0596 - accuracy: 0.7450 - val_loss: 0.0580 - val_accuracy: 0.7526 - 503s/epoch - 26ms/step\n",
            "Epoch 4/10\n",
            "18994/18994 - 486s - loss: 0.0568 - accuracy: 0.7581 - val_loss: 0.0580 - val_accuracy: 0.7526 - 486s/epoch - 26ms/step\n",
            "Epoch 5/10\n",
            "18994/18994 - 478s - loss: 0.0552 - accuracy: 0.7649 - val_loss: 0.0574 - val_accuracy: 0.7548 - 478s/epoch - 25ms/step\n",
            "Epoch 6/10\n",
            "18994/18994 - 477s - loss: 0.0542 - accuracy: 0.7690 - val_loss: 0.0550 - val_accuracy: 0.7655 - 477s/epoch - 25ms/step\n",
            "Epoch 7/10\n",
            "18994/18994 - 478s - loss: 0.0534 - accuracy: 0.7722 - val_loss: 0.0543 - val_accuracy: 0.7679 - 478s/epoch - 25ms/step\n",
            "Epoch 8/10\n",
            "18994/18994 - 477s - loss: 0.0527 - accuracy: 0.7755 - val_loss: 0.0544 - val_accuracy: 0.7687 - 477s/epoch - 25ms/step\n",
            "Epoch 9/10\n",
            "18994/18994 - 471s - loss: 0.0522 - accuracy: 0.7775 - val_loss: 0.0540 - val_accuracy: 0.7701 - 471s/epoch - 25ms/step\n",
            "Epoch 10/10\n"
          ]
        }
      ],
      "source": [
        "model = buildModelRNN(RNNX_train.shape)\n",
        "model.summary()\n",
        "RNNtrain_history = model.fit(RNNX_train, RNNy_TrainOneHot, epochs=10, validation_split = 0.2, batch_size=32, verbose=2)"
      ]
    },
    {
      "cell_type": "markdown",
      "metadata": {
        "id": "FMHHsDVgGybt"
      },
      "source": [
        "測試模型準確度"
      ]
    },
    {
      "cell_type": "code",
      "execution_count": null,
      "metadata": {
        "id": "LyfHXtYu-ODJ",
        "colab": {
          "base_uri": "https://localhost:8080/"
        },
        "outputId": "a363df87-ca24-43ff-8f8f-c526857c35bf"
      },
      "outputs": [
        {
          "metadata": {
            "tags": null
          },
          "name": "stdout",
          "output_type": "stream",
          "text": [
            "10176/10176 [==============================] - 51s 5ms/step - loss: 0.0542 - accuracy: 0.7698\n",
            "Loss :0.05420146882534027 , Accuracy:0.769830584526062 \n"
          ]
        }
      ],
      "source": [
        "RNNscores = model.evaluate(RNNX_test, RNNy_TestOneHot)  \n",
        "print('Loss :{} , Accuracy:{} '.format(RNNscores[0],RNNscores[1]))"
      ]
    },
    {
      "cell_type": "markdown",
      "metadata": {
        "id": "DzQVwiJd785i"
      },
      "source": [
        "**CNN**(卷積神經網路)  \n",
        "卷積神經網路是一種最常用來分析視覺圖像的深度神經網路，應用包括影音理解、語音識別，理解自然語言處理，CNN的架構類似於大腦的額葉，負責的工作就是處理視覺感官。  \n",
        "CNN的結構包括了:  \n",
        "1.   卷積層(Convolutional layer):處理多數的計算、檢查特徵。\n",
        "2.   池化層(Pooling layer:特徵掃描及過濾，與卷積層不同的是降低了許多參數，提高了效率降低了複雜性。 \n",
        "3.   全連接層(Fully connected layer):根據前幾層處理程序來提取特徵進行特徵分類的地方，層層相扣每一層都有相連節點。"
      ]
    },
    {
      "cell_type": "markdown",
      "metadata": {
        "id": "HrPzJSPtFjDJ"
      },
      "source": [
        "將訓練跟測試資料reshape成CNN的格式"
      ]
    },
    {
      "cell_type": "code",
      "execution_count": null,
      "metadata": {
        "id": "54WgaWezBPiR",
        "colab": {
          "base_uri": "https://localhost:8080/"
        },
        "outputId": "ca32c9a0-7e9d-4803-fc04-21bdedbbaf89"
      },
      "outputs": [
        {
          "data": {
            "text/plain": [
              "((759752, 5, 1), (325608, 5, 1))"
            ]
          },
          "execution_count": 33,
          "metadata": {},
          "output_type": "execute_result"
        }
      ],
      "source": [
        "CNNX_train = CNNX_train_Std.reshape(len(X_train), X_train.shape[1], 1)\n",
        "CNNX_test = CNNX_test_Std.reshape(len(X_test), X_test.shape[1], 1)\n",
        "CNNX_train.shape, CNNX_test.shape"
      ]
    },
    {
      "cell_type": "markdown",
      "metadata": {
        "id": "AAVbttouLKO4"
      },
      "source": [
        "建模"
      ]
    },
    {
      "cell_type": "code",
      "execution_count": null,
      "metadata": {
        "id": "-w65Pe2W79_p"
      },
      "outputs": [],
      "source": [
        "from tensorflow import keras\n",
        "from keras.layers import Conv2D, Conv1D, MaxPooling2D, MaxPooling1D, Flatten, BatchNormalization, Dense\n",
        "from tensorflow.keras import layers\n",
        "from keras.models import Sequential\n",
        "\n",
        "def buildModelCNN(shape):\n",
        "    model = Sequential()\n",
        "    #卷積+池化層\n",
        "    model.add(Conv1D(filters=64, kernel_size=3, activation='relu',padding='same', input_shape=(shape[1],1)))\n",
        "    model.add(MaxPooling1D(pool_size=(3), padding='same'))\n",
        "    \n",
        "    model.add(Conv1D(filters=128, kernel_size=3, activation='relu',padding='same'))\n",
        "    model.add(MaxPooling1D(pool_size=(3), padding='same'))\n",
        "    \n",
        "    model.add(Conv1D(filters=256, kernel_size=3, activation='relu',padding='same'))\n",
        "    model.add(MaxPooling1D(pool_size=(3), padding='same'))\n",
        "    #連接層\n",
        "    model.add(Flatten())\n",
        "    model.add(Dense(512, activation='relu'))\n",
        "    model.add(Dense(6, activation='softmax'))\n",
        "    \n",
        "    model.compile(loss='categorical_crossentropy', optimizer='adam', metrics=['accuracy'])\n",
        "    return model"
      ]
    },
    {
      "cell_type": "markdown",
      "metadata": {
        "id": "I5A6vnTyGTSH"
      },
      "source": [
        "訓練模型"
      ]
    },
    {
      "cell_type": "code",
      "execution_count": null,
      "metadata": {
        "colab": {
          "base_uri": "https://localhost:8080/"
        },
        "id": "vZwy_wCL_RYk",
        "outputId": "8ecc10eb-3540-459f-fc10-f89deb8a0243"
      },
      "outputs": [
        {
          "output_type": "stream",
          "name": "stdout",
          "text": [
            "Model: \"sequential_2\"\n",
            "_________________________________________________________________\n",
            " Layer (type)                Output Shape              Param #   \n",
            "=================================================================\n",
            " conv1d (Conv1D)             (None, 5, 64)             256       \n",
            "                                                                 \n",
            " max_pooling1d (MaxPooling1D  (None, 2, 64)            0         \n",
            " )                                                               \n",
            "                                                                 \n",
            " conv1d_1 (Conv1D)           (None, 2, 128)            24704     \n",
            "                                                                 \n",
            " max_pooling1d_1 (MaxPooling  (None, 1, 128)           0         \n",
            " 1D)                                                             \n",
            "                                                                 \n",
            " conv1d_2 (Conv1D)           (None, 1, 256)            98560     \n",
            "                                                                 \n",
            " max_pooling1d_2 (MaxPooling  (None, 1, 256)           0         \n",
            " 1D)                                                             \n",
            "                                                                 \n",
            " flatten (Flatten)           (None, 256)               0         \n",
            "                                                                 \n",
            " dense_6 (Dense)             (None, 512)               131584    \n",
            "                                                                 \n",
            " dense_7 (Dense)             (None, 6)                 3078      \n",
            "                                                                 \n",
            "=================================================================\n",
            "Total params: 258,182\n",
            "Trainable params: 258,182\n",
            "Non-trainable params: 0\n",
            "_________________________________________________________________\n",
            "Epoch 1/10\n",
            "18994/18994 - 79s - loss: 0.9486 - accuracy: 0.6346 - val_loss: 0.8721 - val_accuracy: 0.6657 - 79s/epoch - 4ms/step\n",
            "Epoch 2/10\n",
            "18994/18994 - 74s - loss: 0.8406 - accuracy: 0.6773 - val_loss: 0.8208 - val_accuracy: 0.6874 - 74s/epoch - 4ms/step\n",
            "Epoch 3/10\n",
            "18994/18994 - 84s - loss: 0.7971 - accuracy: 0.6941 - val_loss: 0.7868 - val_accuracy: 0.6988 - 84s/epoch - 4ms/step\n",
            "Epoch 4/10\n",
            "18994/18994 - 74s - loss: 0.7705 - accuracy: 0.7042 - val_loss: 0.7648 - val_accuracy: 0.7078 - 74s/epoch - 4ms/step\n",
            "Epoch 5/10\n",
            "18994/18994 - 84s - loss: 0.7513 - accuracy: 0.7120 - val_loss: 0.7507 - val_accuracy: 0.7138 - 84s/epoch - 4ms/step\n",
            "Epoch 6/10\n",
            "18994/18994 - 84s - loss: 0.7364 - accuracy: 0.7184 - val_loss: 0.7406 - val_accuracy: 0.7189 - 84s/epoch - 4ms/step\n",
            "Epoch 7/10\n",
            "18994/18994 - 83s - loss: 0.7235 - accuracy: 0.7235 - val_loss: 0.7323 - val_accuracy: 0.7197 - 83s/epoch - 4ms/step\n",
            "Epoch 8/10\n",
            "18994/18994 - 84s - loss: 0.7144 - accuracy: 0.7267 - val_loss: 0.7287 - val_accuracy: 0.7221 - 84s/epoch - 4ms/step\n",
            "Epoch 9/10\n",
            "18994/18994 - 74s - loss: 0.7062 - accuracy: 0.7298 - val_loss: 0.7211 - val_accuracy: 0.7253 - 74s/epoch - 4ms/step\n",
            "Epoch 10/10\n"
          ]
        }
      ],
      "source": [
        "model = buildModelCNN(CNNX_train.shape)\n",
        "model.summary()\n",
        "CNNtrain_history = model.fit(CNNX_train, CNNy_TrainOneHot, epochs=10, validation_split = 0.2, batch_size=32, verbose=2)"
      ]
    },
    {
      "cell_type": "markdown",
      "metadata": {
        "id": "rJxYxuBXG2CW"
      },
      "source": [
        "測試模型準確度"
      ]
    },
    {
      "cell_type": "code",
      "execution_count": null,
      "metadata": {
        "id": "e84Zia_7HZ2O"
      },
      "outputs": [],
      "source": [
        "CNNscores = model.evaluate(CNNX_test, CNNy_TestOneHot)\n",
        "print('Loss :{} , Accuracy:{} '.format(CNNscores[0],CNNscores[1]))"
      ]
    },
    {
      "cell_type": "markdown",
      "metadata": {
        "id": "9j-hlGLolXZC"
      },
      "source": [
        "# **結論**"
      ]
    },
    {
      "cell_type": "markdown",
      "metadata": {
        "id": "f9dGCrWJKu7K"
      },
      "source": [
        "模型準確度:  \n",
        "**RNN>DNN≒CNN**  \n",
        "訓練時間:  \n",
        "**RNN>CNN>DNN**"
      ]
    },
    {
      "cell_type": "markdown",
      "metadata": {
        "id": "AbBcQPXWtjC-"
      },
      "source": [
        "個人心得及後續優化想法\n",
        "---\n",
        "資料清洗的話其實我的traindata還整理得沒有很好，尤其是shape資料跟格式編碼的部分  \n",
        "另外像是重複值我沒有去檢查、時間的秒數沒有照參考資料說明的20HZ(0.5毫秒)去設  \n",
        "定特徵等等...都還有可改善的空間。  \n",
        "模型的部分因為經驗不夠所以隱藏層裡面的單元數量都是隨機設定的，所以理論上了解  \n",
        "資料型態跟模型的關係後去優化模型應該可以減少很多訓練時間跟提升準確度"
      ]
    },
    {
      "cell_type": "markdown",
      "metadata": {
        "id": "2ztDES8s_8l8"
      },
      "source": [
        "# **後續優化**"
      ]
    },
    {
      "cell_type": "markdown",
      "metadata": {
        "id": "AAepMO6yBIwX"
      },
      "source": [
        "**模型決定**"
      ]
    },
    {
      "cell_type": "markdown",
      "metadata": {
        "id": "F9YaEDMXACjH"
      },
      "source": [
        "鑒於瞭解資料有時序及模式的特性後，決定使用CNN+LSTM的混合模型。  \n",
        "該模型又稱為LRCN(long-term recurrent convolutional network)，意旨在LSTM前加入CNN。CNN會作為特徵提取器，LSTM則處理時序資料的Input。該架構也可用來處理自然語言之類的領域。"
      ]
    },
    {
      "cell_type": "markdown",
      "metadata": {
        "id": "bRTOw2S_BHZf"
      },
      "source": [
        "**資料再清洗**"
      ]
    },
    {
      "cell_type": "markdown",
      "metadata": {
        "id": "AldbrkpfBPrq"
      },
      "source": [
        "由於發現資料的重複值會影響先刪除重複值。"
      ]
    },
    {
      "cell_type": "code",
      "execution_count": null,
      "metadata": {
        "id": "-2UPs4rOc6_4"
      },
      "outputs": [],
      "source": [
        "df = train_data.copy() #做一個副本然後就可以做壞壞的事了\n",
        "print(df.info())"
      ]
    },
    {
      "cell_type": "code",
      "execution_count": null,
      "metadata": {
        "id": "wy1tCaOfANpv"
      },
      "outputs": [],
      "source": [
        "column_names = ['ID', 'act', 'x-acc', 'y-acc', 'z-acc', 'sec']\n",
        "print(df[df.duplicated(subset=column_names, keep=False)])"
      ]
    },
    {
      "cell_type": "code",
      "execution_count": null,
      "metadata": {
        "id": "XO77dk3mbBn6"
      },
      "outputs": [],
      "source": [
        "df.drop_duplicates(subset=column_names, keep='first', inplace=True)\n",
        "print(df[df.duplicated(subset=column_names, keep=False)])"
      ]
    },
    {
      "cell_type": "code",
      "execution_count": null,
      "metadata": {
        "id": "fIpqDIvJn2HN"
      },
      "outputs": [],
      "source": [
        "#train_data.to_csv(\"/content/gdrive/MyDrive/資料探勘/WISDM/WISDM_afterdata.csv\")"
      ]
    },
    {
      "cell_type": "markdown",
      "metadata": {
        "id": "oClaaXqMiSdU"
      },
      "source": [
        "本來打算對資料差異做處理，但看完資料分布後還沒想到辦法，之後想到再看看。"
      ]
    },
    {
      "cell_type": "code",
      "execution_count": null,
      "metadata": {
        "id": "qILq5UBQgQFr"
      },
      "outputs": [],
      "source": [
        "df.groupby([\"ID\", \"act\"]).size().reset_index(name=\"次數\")"
      ]
    },
    {
      "cell_type": "code",
      "execution_count": null,
      "metadata": {
        "id": "Jaxtk9FUk7Ns"
      },
      "outputs": [],
      "source": [
        "from collections import Counter\n",
        "pd.DataFrame.from_dict(Counter(df[\"act\"]),orient='index',columns=[\"act\"])"
      ]
    },
    {
      "cell_type": "markdown",
      "metadata": {
        "id": "3skRVUs2sVlr"
      },
      "source": [
        "把資料筆數調整一下方便等等reshape"
      ]
    },
    {
      "cell_type": "code",
      "execution_count": null,
      "metadata": {
        "id": "YAGvbxd3sg6A"
      },
      "outputs": [],
      "source": [
        "df.drop(df.head(16).index,inplace=True)"
      ]
    },
    {
      "cell_type": "code",
      "execution_count": null,
      "metadata": {
        "id": "bcIPo_yHfwFJ"
      },
      "outputs": [],
      "source": [
        "df.info()\n",
        "train_data = df\n",
        "train_data"
      ]
    },
    {
      "cell_type": "markdown",
      "metadata": {
        "id": "mIpaKtIYoWn0"
      },
      "source": [
        "**重新切割、編碼資料**"
      ]
    },
    {
      "cell_type": "code",
      "execution_count": null,
      "metadata": {
        "id": "UFKfyII2oWSK"
      },
      "outputs": [],
      "source": [
        "from sklearn.model_selection import train_test_split\n",
        "feaCols = [col for col in train_data.columns if col!=\"act\"]\n",
        "X_train,X_test,y_train,y_test = train_test_split(train_data[feaCols], train_data[\"act\"], test_size=0.2, random_state=0)"
      ]
    },
    {
      "cell_type": "markdown",
      "metadata": {
        "id": "QaATymAVrLWA"
      },
      "source": [
        "標準化"
      ]
    },
    {
      "cell_type": "code",
      "execution_count": null,
      "metadata": {
        "id": "_tTnFi_ArL3Y"
      },
      "outputs": [],
      "source": [
        "from sklearn.preprocessing import StandardScaler\n",
        "sc = StandardScaler()\n",
        "sc.fit(X_train)\n",
        "LCRNX_train_Std = sc.transform(X_train)\n",
        "LCRNX_test_Std = sc.transform(X_test)"
      ]
    },
    {
      "cell_type": "markdown",
      "metadata": {
        "id": "cKDciy6Jve0K"
      },
      "source": [
        "onehot\n"
      ]
    },
    {
      "cell_type": "code",
      "execution_count": null,
      "metadata": {
        "id": "4-yHFFWPrOwW"
      },
      "outputs": [],
      "source": [
        "from keras.utils import to_categorical\n",
        "LCRNy_TrainOneHot = to_categorical(y_train,num_classes=6)\n",
        "LCRNy_TestOneHot = to_categorical(y_test,num_classes=6)"
      ]
    },
    {
      "cell_type": "code",
      "execution_count": null,
      "metadata": {
        "id": "2BmSvICYrrZp"
      },
      "outputs": [],
      "source": [
        "print(LCRNX_train_Std.shape)\n",
        "print(LCRNX_test_Std.shape)\n",
        "\n",
        "print(LCRNy_TrainOneHot.shape)\n",
        "print(LCRNy_TestOneHot.shape)"
      ]
    },
    {
      "cell_type": "code",
      "execution_count": null,
      "metadata": {
        "id": "pv3APhNGsV7v"
      },
      "outputs": [],
      "source": [
        "LCRNX_train = LCRNX_train_Std.reshape(40756, 20, 5)\n",
        "LCRNX_test = LCRNX_test_Std.reshape(10189, 20, 5)\n",
        "LCRNX_train.shape, LCRNX_test.shape"
      ]
    },
    {
      "cell_type": "markdown",
      "metadata": {
        "id": "Ei5T2ZdL4qcC"
      },
      "source": [
        "建模"
      ]
    },
    {
      "cell_type": "code",
      "execution_count": null,
      "metadata": {
        "id": "buFpUTMX58HQ"
      },
      "outputs": [],
      "source": [
        "from keras.layers import Input, Dense, LSTM, MaxPooling1D, Conv1D\n",
        "from keras.models import Model\n",
        "from keras.models import Sequential\n",
        "def buildModelLCRN(shape):\n",
        "    model = Sequential()\n",
        "    #model.add(Dense(128,input_shape=(shape[1],shape[2])))\n",
        "    model.add(Conv1D(filters=64, kernel_size=3, activation='relu',padding='same', input_shape=(shape[1],shape[2])))\n",
        "    model.add(MaxPooling1D(pool_size=2, padding='valid'))\n",
        "\n",
        "    model.add(LSTM(32,return_sequences=True))\n",
        "    model.add(LSTM(16,return_sequences=False))\n",
        "    #model.add(Dense(20, activation=\"softmax\"))\n",
        "    model.add(Dense(6, activation=\"softmax\"))\n",
        "    model.compile(loss='categorical_crossentropy',optimizer='adam',metrics=['accuracy'])\n",
        "    return model"
      ]
    },
    {
      "cell_type": "markdown",
      "metadata": {
        "id": "OjVBjjXB7cgz"
      },
      "source": [
        "訓練"
      ]
    },
    {
      "cell_type": "code",
      "execution_count": null,
      "metadata": {
        "colab": {
          "base_uri": "https://localhost:8080/"
        },
        "id": "akTHO3yy7cUM",
        "outputId": "37b8cab2-ed55-4f7b-9f2a-db25705c700d"
      },
      "outputs": [
        {
          "output_type": "stream",
          "name": "stdout",
          "text": [
            "Model: \"sequential_3\"\n",
            "_________________________________________________________________\n",
            " Layer (type)                Output Shape              Param #   \n",
            "=================================================================\n",
            " conv1d_3 (Conv1D)           (None, 20, 64)            1024      \n",
            "                                                                 \n",
            " max_pooling1d_3 (MaxPooling  (None, 10, 64)           0         \n",
            " 1D)                                                             \n",
            "                                                                 \n",
            " lstm_3 (LSTM)               (None, 10, 32)            12416     \n",
            "                                                                 \n",
            " lstm_4 (LSTM)               (None, 16)                3136      \n",
            "                                                                 \n",
            " dense_8 (Dense)             (None, 6)                 102       \n",
            "                                                                 \n",
            "=================================================================\n",
            "Total params: 16,678\n",
            "Trainable params: 16,678\n",
            "Non-trainable params: 0\n",
            "_________________________________________________________________\n",
            "Epoch 1/10\n",
            "1019/1019 - 9s - loss: 1.4821 - accuracy: 0.4033 - val_loss: 1.4828 - val_accuracy: 0.3984 - 9s/epoch - 9ms/step\n",
            "Epoch 2/10\n",
            "1019/1019 - 6s - loss: 1.4779 - accuracy: 0.4039 - val_loss: 1.4825 - val_accuracy: 0.3984 - 6s/epoch - 6ms/step\n",
            "Epoch 3/10\n",
            "1019/1019 - 6s - loss: 1.4774 - accuracy: 0.4039 - val_loss: 1.4812 - val_accuracy: 0.3984 - 6s/epoch - 6ms/step\n",
            "Epoch 4/10\n",
            "1019/1019 - 6s - loss: 1.4769 - accuracy: 0.4039 - val_loss: 1.4836 - val_accuracy: 0.3984 - 6s/epoch - 6ms/step\n",
            "Epoch 5/10\n",
            "1019/1019 - 6s - loss: 1.4765 - accuracy: 0.4039 - val_loss: 1.4830 - val_accuracy: 0.3984 - 6s/epoch - 6ms/step\n",
            "Epoch 6/10\n",
            "1019/1019 - 6s - loss: 1.4756 - accuracy: 0.4039 - val_loss: 1.4839 - val_accuracy: 0.3984 - 6s/epoch - 6ms/step\n",
            "Epoch 7/10\n",
            "1019/1019 - 6s - loss: 1.4749 - accuracy: 0.4039 - val_loss: 1.4824 - val_accuracy: 0.3984 - 6s/epoch - 6ms/step\n",
            "Epoch 8/10\n",
            "1019/1019 - 7s - loss: 1.4740 - accuracy: 0.4047 - val_loss: 1.4837 - val_accuracy: 0.3974 - 7s/epoch - 6ms/step\n",
            "Epoch 9/10\n",
            "1019/1019 - 6s - loss: 1.4728 - accuracy: 0.4040 - val_loss: 1.4860 - val_accuracy: 0.3984 - 6s/epoch - 6ms/step\n",
            "Epoch 10/10\n",
            "1019/1019 - 7s - loss: 1.4716 - accuracy: 0.4038 - val_loss: 1.4866 - val_accuracy: 0.3984 - 7s/epoch - 6ms/step\n"
          ]
        }
      ],
      "source": [
        "model = buildModelLCRN(LCRNX_train.shape)\n",
        "model.summary()\n",
        "LCRNtrain_history = model.fit(LCRNX_train, LCRNy_TrainOneHot, epochs=10, validation_split = 0.2, batch_size=32, verbose=2)"
      ]
    },
    {
      "cell_type": "markdown",
      "source": [
        "# 結論"
      ],
      "metadata": {
        "id": "XqhYSPxjV8bZ"
      }
    },
    {
      "cell_type": "markdown",
      "source": [
        "感覺怪怪的，理論上混合模型的表現會比之前的模型好。  \n",
        "但結果卻是差很多，應該是我模型的超參數設定不對所以導致模型訓練的準確度上不去。  \n",
        "暫時先去找資料來看看，目前知道關於超參數最佳化的方式有PSO(粒子群演算法)、GA(基因演算法)、SA(模擬退火法)...先去研究這些後再回來改看看。\n",
        "\n"
      ],
      "metadata": {
        "id": "6lfdONUpUAJa"
      }
    },
    {
      "cell_type": "code",
      "execution_count": null,
      "metadata": {
        "id": "vcQJcDKQ2tGO"
      },
      "outputs": [],
      "source": []
    }
  ],
  "metadata": {
    "accelerator": "GPU",
    "colab": {
      "toc_visible": true,
      "provenance": [],
      "authorship_tag": "ABX9TyOPdTi6TV+o4BHqDhFynO7I",
      "include_colab_link": true
    },
    "gpuClass": "standard",
    "kernelspec": {
      "display_name": "Python 3",
      "name": "python3"
    },
    "language_info": {
      "name": "python"
    }
  },
  "nbformat": 4,
  "nbformat_minor": 0
}